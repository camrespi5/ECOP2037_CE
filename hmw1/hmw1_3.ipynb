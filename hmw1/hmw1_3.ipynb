{
 "cells": [
  {
   "cell_type": "code",
   "execution_count": 1,
   "id": "7743332e",
   "metadata": {},
   "outputs": [],
   "source": [
    "import pandas as pd\n",
    "import statsmodels.api as sm"
   ]
  },
  {
   "cell_type": "markdown",
   "id": "efdbe064",
   "metadata": {},
   "source": [
    "<h1>Efects de la asistencia en el examen final</h1>\n",
    "<p style=\"font-size:20px\">"
   ]
  },
  {
   "cell_type": "markdown",
   "id": "987cf617",
   "metadata": {},
   "source": [
    "La base de datos ATTEND contiene información sobre 680 estudiantes de un curso de microeconomía.\n",
    "A continuación se describen las variables disponibles:\n",
    "- attend: número de clases asistidas (de un total de 32).\n",
    "- priGPA: GPA acumulado previo al curso.\n",
    "- ACT: puntaje de admisión estandarizado ACT.\n",
    "- atndrte: porcentaje de clases asistidas (entre 0 y 100).\n",
    "- frosh: indicador (=1) si el estudiante es de primer a no (freshman).\n",
    "- soph: indicador (=1) si el estudiante es de segundo a no (sophomore).\n",
    "- skipped: número de clases que el estudiante se perdi’o.\n",
    "- stndfnl: nota estandarizada del examen final ."
   ]
  },
  {
   "cell_type": "markdown",
   "id": "3b20d05a",
   "metadata": {},
   "source": [
    "Un modelo para explicar el resultado estandarizado de un examen final (stndfnl) en términos del\n",
    "porcentaje de clases asistidas (atndrte), el promedio de calificaciones de la universidad previa y\n",
    "la puntuación del ACT es:\n",
    "$$\n",
    "stndfnl =β_0 + β_1atndrte + β_2priGPA + β_3ACT + β_4priGPA^{2}\n",
    "+ β_5ACT^{2} + β_6priGPA · atndrte + e\n",
    "$$"
   ]
  },
  {
   "cell_type": "code",
   "execution_count": 2,
   "id": "a97a39f4",
   "metadata": {},
   "outputs": [],
   "source": [
    "url=r'C:\\Users\\Camil\\Documents\\ESPOL\\ECOP2037_CE\\hmw1\\attend.dta'\n",
    "df=pd.read_stata(url)"
   ]
  },
  {
   "cell_type": "markdown",
   "id": "ffdea069",
   "metadata": {},
   "source": [
    "1. ¿Por qué usamos el resultado estadarizado en lugar de la nota original?"
   ]
  },
  {
   "cell_type": "markdown",
   "id": "3b051605",
   "metadata": {},
   "source": [
    "Una de las razones para usar el resultado estandarizado es que las notas originales pueden estar en diferentes escalas o tener distribuciones distintas segun otras caracteristicas. Al estandarizar, todas las observaciones pasan a una escala común con media 0 y desviación estándar 1, haciendolas comparables entre si. "
   ]
  },
  {
   "cell_type": "markdown",
   "id": "d8152dcc",
   "metadata": {},
   "source": [
    "2. ¿Por qué incluimos priGPA^2 , ACT^2 , y priGPA · atndrte?"
   ]
  },
  {
   "cell_type": "markdown",
   "id": "ef18081e",
   "metadata": {},
   "source": [
    "Incluimos las variables priGPA y ACT en su forma cuadrática porque nos permite capturar relaciones no lineales. Al elevar al cuadrado, permitimos que el modelo se pueda adaptar a una curva y no solo a una línea recta. Entonces, por ejemplo, si priGPA tiene rendimientos decrecientes sobre stndfnl, esta forma cuadrática lo podrá capturar en el modelo.\n",
    "\n",
    "\n",
    "Incluimos la interacción priGPA · atndrte porque el efecto de asistir a clases puede cambiar según el promedio anterior del estudiante. Así, el modelo reconoce que no todos se benefician igual de las clases asistidas.\n"
   ]
  },
  {
   "cell_type": "markdown",
   "id": "388cc749",
   "metadata": {},
   "source": [
    "3. Estime el modelo propuesto. Reporte los coeficientes estimados y sus errores estándar"
   ]
  },
  {
   "cell_type": "code",
   "execution_count": 3,
   "id": "c8f28a23",
   "metadata": {},
   "outputs": [],
   "source": [
    "##creamos las versiones no lineales de las variables\n",
    "df['priGPA2'] = df['priGPA']**2\n",
    "df['ACT2'] = df['ACT']**2\n",
    "df['priGPA_atndrte'] = df['priGPA'] * df['atndrte']"
   ]
  },
  {
   "cell_type": "code",
   "execution_count": 4,
   "id": "4ac375c7",
   "metadata": {},
   "outputs": [
    {
     "name": "stdout",
     "output_type": "stream",
     "text": [
      "                            OLS Regression Results                            \n",
      "==============================================================================\n",
      "Dep. Variable:                stndfnl   R-squared:                       0.229\n",
      "Model:                            OLS   Adj. R-squared:                  0.222\n",
      "Method:                 Least Squares   F-statistic:                     33.25\n",
      "Date:                Fri, 30 May 2025   Prob (F-statistic):           3.49e-35\n",
      "Time:                        01:26:55   Log-Likelihood:                -868.90\n",
      "No. Observations:                 680   AIC:                             1752.\n",
      "Df Residuals:                     673   BIC:                             1783.\n",
      "Df Model:                           6                                         \n",
      "Covariance Type:            nonrobust                                         \n",
      "==================================================================================\n",
      "                     coef    std err          t      P>|t|      [0.025      0.975]\n",
      "----------------------------------------------------------------------------------\n",
      "const              2.0503      1.360      1.507      0.132      -0.621       4.721\n",
      "atndrte           -0.0067      0.010     -0.656      0.512      -0.027       0.013\n",
      "priGPA            -1.6285      0.481     -3.386      0.001      -2.573      -0.684\n",
      "ACT               -0.1280      0.098     -1.300      0.194      -0.321       0.065\n",
      "priGPA2            0.2959      0.101      2.928      0.004       0.097       0.494\n",
      "ACT2               0.0045      0.002      2.083      0.038       0.000       0.009\n",
      "priGPA_atndrte     0.0056      0.004      1.294      0.196      -0.003       0.014\n",
      "==============================================================================\n",
      "Omnibus:                        2.581   Durbin-Watson:                   2.279\n",
      "Prob(Omnibus):                  0.275   Jarque-Bera (JB):                2.474\n",
      "Skew:                          -0.095   Prob(JB):                        0.290\n",
      "Kurtosis:                       3.226   Cond. No.                     2.43e+04\n",
      "==============================================================================\n",
      "\n",
      "Notes:\n",
      "[1] Standard Errors assume that the covariance matrix of the errors is correctly specified.\n",
      "[2] The condition number is large, 2.43e+04. This might indicate that there are\n",
      "strong multicollinearity or other numerical problems.\n"
     ]
    }
   ],
   "source": [
    "##Estimamos el modelo\n",
    "X = df[['atndrte','priGPA','ACT','priGPA2','ACT2','priGPA_atndrte']]\n",
    "X = sm.add_constant(X)  \n",
    "y = df['stndfnl']\n",
    "model = sm.OLS(y, X).fit()\n",
    "print(model.summary())"
   ]
  },
  {
   "cell_type": "markdown",
   "id": "a122ec9f",
   "metadata": {},
   "source": [
    "4. ¿Por qué no se debe interpretar directamente el coeficiente de atndrte en presencia de la\n",
    "interacción con priGPA? ¿A qué valor de priGPA corresponde esta interpretación y por qué\n",
    "es poco relevante en la muestra?"
   ]
  },
  {
   "cell_type": "markdown",
   "id": "8fb15cb4",
   "metadata": {},
   "source": [
    "Al incluir dentro del modelo la interacción de la variable atndrte y priGPA, el coeficiente de atndrte (es decir $β_1$) va a representar el efecto de atender a clases (atndrte) en la nota final estandarizada (stndnl) cuando priGPA es igual a cero. Dado que en la base de datos no hay alguna observación cuyo valor de priGPA sea igual a cero entonces interpretar unicamente $β_1$ no es relevante."
   ]
  },
  {
   "cell_type": "markdown",
   "id": "bdc979f9",
   "metadata": {},
   "source": [
    "5. Calcule el efecto marginal de atndrte sobre stndfnl cuando priGPA = 2.59 (la media).\n",
    "Interprete el resultado en términos de desviaciones estandarizadas."
   ]
  },
  {
   "cell_type": "markdown",
   "id": "9898a3b2",
   "metadata": {},
   "source": [
    "El efecto marginal es: $\\frac{\\partial\\, stndfnl}{\\partial\\, atndrte} = \\beta_1 + \\beta_6 \\cdot priGPA$\n",
    "donde:\n",
    "- β_1= -0.0067\n",
    "- β_6=  0.0056\n",
    "- priGPA= 2.59"
   ]
  },
  {
   "cell_type": "code",
   "execution_count": 5,
   "id": "ebeb87a5",
   "metadata": {},
   "outputs": [
    {
     "name": "stdout",
     "output_type": "stream",
     "text": [
      "[0.00775457]\n"
     ]
    }
   ],
   "source": [
    "b1 = model.params['atndrte']\n",
    "b6 = model.params['priGPA_atndrte']\n",
    "\n",
    "efecto=(b1)+[(2.59)*b6]\n",
    "print(efecto)"
   ]
  },
  {
   "cell_type": "markdown",
   "id": "a6cdd3b8",
   "metadata": {},
   "source": [
    "Cuando priGPA = 2.59, un aumento de una unidad en la tasa de asistencia (atndrte) está asociado con un aumento de 0.0078 desviaciones estandar en la nota final (stndfnl), manteniendo todo lo demás constante."
   ]
  },
  {
   "cell_type": "markdown",
   "id": "ac889402",
   "metadata": {},
   "source": [
    "6. Centre la variable priGPA alrededor de su media y reemplace priGPA·atndrte por (priGPA−\n",
    "2,59) · atndrte. Estime este modelo nuevamente y reporte el nuevo coeficiente de atndrte.\n",
    "Especifacmente el modelo a estimar es\n",
    "$$stndfnl =β0 + β1atndrte + β2priGPA + β3ACT + β4priGPA2+ β5ACT2 + β6(priGPA − 2,59) · atndrte + e$$\n",
    "Compare con el obtenido previamente."
   ]
  },
  {
   "cell_type": "code",
   "execution_count": 6,
   "id": "f8e7be21",
   "metadata": {},
   "outputs": [],
   "source": [
    "##centramos y creamos nueva var interaccion\n",
    "df['priGPA_c'] = df['priGPA'] - 2.59\n",
    "df['priGPA_c_atndrte'] = df['priGPA_c'] * df['atndrte']"
   ]
  },
  {
   "cell_type": "code",
   "execution_count": 7,
   "id": "afb9db56",
   "metadata": {},
   "outputs": [
    {
     "name": "stdout",
     "output_type": "stream",
     "text": [
      "                            OLS Regression Results                            \n",
      "==============================================================================\n",
      "Dep. Variable:                stndfnl   R-squared:                       0.229\n",
      "Model:                            OLS   Adj. R-squared:                  0.222\n",
      "Method:                 Least Squares   F-statistic:                     33.25\n",
      "Date:                Fri, 30 May 2025   Prob (F-statistic):           3.49e-35\n",
      "Time:                        01:26:55   Log-Likelihood:                -868.90\n",
      "No. Observations:                 680   AIC:                             1752.\n",
      "Df Residuals:                     673   BIC:                             1783.\n",
      "Df Model:                           6                                         \n",
      "Covariance Type:            nonrobust                                         \n",
      "====================================================================================\n",
      "                       coef    std err          t      P>|t|      [0.025      0.975]\n",
      "------------------------------------------------------------------------------------\n",
      "const                2.0503      1.360      1.507      0.132      -0.621       4.721\n",
      "atndrte              0.0078      0.003      2.938      0.003       0.003       0.013\n",
      "priGPA              -1.6285      0.481     -3.386      0.001      -2.573      -0.684\n",
      "ACT                 -0.1280      0.098     -1.300      0.194      -0.321       0.065\n",
      "priGPA2              0.2959      0.101      2.928      0.004       0.097       0.494\n",
      "ACT2                 0.0045      0.002      2.083      0.038       0.000       0.009\n",
      "priGPA_c_atndrte     0.0056      0.004      1.294      0.196      -0.003       0.014\n",
      "==============================================================================\n",
      "Omnibus:                        2.581   Durbin-Watson:                   2.279\n",
      "Prob(Omnibus):                  0.275   Jarque-Bera (JB):                2.474\n",
      "Skew:                          -0.095   Prob(JB):                        0.290\n",
      "Kurtosis:                       3.226   Cond. No.                     2.27e+04\n",
      "==============================================================================\n",
      "\n",
      "Notes:\n",
      "[1] Standard Errors assume that the covariance matrix of the errors is correctly specified.\n",
      "[2] The condition number is large, 2.27e+04. This might indicate that there are\n",
      "strong multicollinearity or other numerical problems.\n"
     ]
    }
   ],
   "source": [
    "##estimamos el modelo nuevamente\n",
    "X = df[['atndrte','priGPA','ACT','priGPA2','ACT2','priGPA_c_atndrte']]\n",
    "X = sm.add_constant(X)  \n",
    "y = df['stndfnl']\n",
    "model2 = sm.OLS(y, X).fit()\n",
    "print(model2.summary())"
   ]
  },
  {
   "cell_type": "markdown",
   "id": "51f82ed5",
   "metadata": {},
   "source": [
    "En este caso, el B_1 que en el modelo anterior representaba el efecto de atndrte en stndfnl cuando priGPA=0, ahora representa este mismo efecto pero cuando priGPA es igual a su media 2.59. "
   ]
  },
  {
   "cell_type": "markdown",
   "id": "e70f1892",
   "metadata": {},
   "source": [
    "7. Derive el efecto marginal de priGPA sobre stndfnl. Evalúelo cuando priGPA = 2.59 y\n",
    "atndrte = 82. Interprete este resultado."
   ]
  },
  {
   "cell_type": "markdown",
   "id": "3f1d2614",
   "metadata": {},
   "source": [
    "El efecto marginal es: $\\frac{\\partial\\, stndfnl}{\\partial\\, priGPA} = \\beta_2 +2 \\beta_4 \\cdot priGPA+ \\beta_6 \\cdot atndrte$\n",
    "donde:\n",
    "- β_2= -1.6285\n",
    "- β_6=  0.0056\n",
    "- β_4=  0.2959\n",
    "- priGPA= 2.59\n",
    "- atndrte= 82\n"
   ]
  },
  {
   "cell_type": "code",
   "execution_count": 8,
   "id": "ac032a85",
   "metadata": {},
   "outputs": [
    {
     "name": "stdout",
     "output_type": "stream",
     "text": [
      "0.3622902438547918\n"
     ]
    }
   ],
   "source": [
    "b2 = model2.params['priGPA']\n",
    "b4 = model2.params['priGPA2']\n",
    "b6 = model2.params['priGPA_c_atndrte'] \n",
    "\n",
    "priGPA = 2.59\n",
    "atndrte = 82\n",
    "\n",
    "efecto2 = b2 + 2 * b4 * priGPA + b6 * atndrte\n",
    "print(efecto2)"
   ]
  },
  {
   "cell_type": "markdown",
   "id": "cf847baf",
   "metadata": {},
   "source": [
    "Cuando priGPA = 2.59 y atndrte = 82, es decir su promedio, un aumento de una unidad en la nota previa se asocia con un aumento de aproximadamente 0.3643 desviaciones estándar en la nota final estandarizada (stndfnl), manteniendo todo el resto constante."
   ]
  },
  {
   "cell_type": "markdown",
   "id": "5d92e7ec",
   "metadata": {},
   "source": [
    "8. Centre simultáneamente priGPA y atndrte en sus medias. Especificamente el modelo a estimar es\n",
    "$$stndfnl =β_0 + β_1atndrte + β_2priGPA + β_3ACT + β_4(priGPA − 2,59)^{2} + β_5ACT^{2} + β_6priGPA · (atndrte − 82) + e$$\n",
    "¿Cómo se interpreta ahora el coeficiente de priGPA? Este resultado se conoce como el efecto\n",
    "parcial promedio (APE) de priGPA sobre stndfnl."
   ]
  },
  {
   "cell_type": "code",
   "execution_count": 9,
   "id": "55aa103d",
   "metadata": {},
   "outputs": [],
   "source": [
    "##centramos y creamos nueva var interaccion\n",
    "df['atndrte_c'] = df['atndrte'] - 82\n",
    "df['priGPA_c_atndrte_c'] = df['priGPA_c'] * df['atndrte_c']"
   ]
  },
  {
   "cell_type": "code",
   "execution_count": 10,
   "id": "d70149fd",
   "metadata": {},
   "outputs": [
    {
     "name": "stdout",
     "output_type": "stream",
     "text": [
      "                            OLS Regression Results                            \n",
      "==============================================================================\n",
      "Dep. Variable:                stndfnl   R-squared:                       0.229\n",
      "Model:                            OLS   Adj. R-squared:                  0.222\n",
      "Method:                 Least Squares   F-statistic:                     33.25\n",
      "Date:                Fri, 30 May 2025   Prob (F-statistic):           3.49e-35\n",
      "Time:                        01:26:55   Log-Likelihood:                -868.90\n",
      "No. Observations:                 680   AIC:                             1752.\n",
      "Df Residuals:                     673   BIC:                             1783.\n",
      "Df Model:                           6                                         \n",
      "Covariance Type:            nonrobust                                         \n",
      "======================================================================================\n",
      "                         coef    std err          t      P>|t|      [0.025      0.975]\n",
      "--------------------------------------------------------------------------------------\n",
      "const                  0.8640      1.274      0.678      0.498      -1.637       3.365\n",
      "atndrte                0.0078      0.003      2.938      0.003       0.003       0.013\n",
      "priGPA                -1.1705      0.531     -2.206      0.028      -2.212      -0.129\n",
      "ACT                   -0.1280      0.098     -1.300      0.194      -0.321       0.065\n",
      "priGPA2                0.2959      0.101      2.928      0.004       0.097       0.494\n",
      "ACT2                   0.0045      0.002      2.083      0.038       0.000       0.009\n",
      "priGPA_c_atndrte_c     0.0056      0.004      1.294      0.196      -0.003       0.014\n",
      "==============================================================================\n",
      "Omnibus:                        2.581   Durbin-Watson:                   2.279\n",
      "Prob(Omnibus):                  0.275   Jarque-Bera (JB):                2.474\n",
      "Skew:                          -0.095   Prob(JB):                        0.290\n",
      "Kurtosis:                       3.226   Cond. No.                     2.14e+04\n",
      "==============================================================================\n",
      "\n",
      "Notes:\n",
      "[1] Standard Errors assume that the covariance matrix of the errors is correctly specified.\n",
      "[2] The condition number is large, 2.14e+04. This might indicate that there are\n",
      "strong multicollinearity or other numerical problems.\n"
     ]
    }
   ],
   "source": [
    "##estimamos el modelo nuevamente\n",
    "X = df[['atndrte','priGPA','ACT','priGPA2','ACT2','priGPA_c_atndrte_c']]\n",
    "X = sm.add_constant(X)  \n",
    "y = df['stndfnl']\n",
    "model3 = sm.OLS(y, X).fit()\n",
    "print(model3.summary())"
   ]
  },
  {
   "cell_type": "markdown",
   "id": "1634b73c",
   "metadata": {},
   "source": [
    "$β_2$ es el efecto parcial promedio (APE) de priGPA sobre stndfnl: mide cuánto cambia stndfnl (en desviaciones estándar) ante un aumento de una unidad en priGPA, en promedio, manteniendo el resto constante y cuando atndrte = 82."
   ]
  },
  {
   "cell_type": "markdown",
   "id": "7d05c755",
   "metadata": {},
   "source": [
    "9. Explique por que los efectos marginales en este modelo dependen de los valores de las variables explicativas. ¿Por que los APEs son una forma resumida de interpretar estos efectos?"
   ]
  },
  {
   "cell_type": "markdown",
   "id": "6b9ed93b",
   "metadata": {},
   "source": [
    "En el modelo, los efectos marginales dependen de los valores de las variables explicativas lo que significa que el impacto de una variable sobre stndfnl varía según el nivel de otras variables.\n",
    "Los efectos parciales promedio son útiles porque resumen esa variación en un solo valor representativo, evaluando el efecto en un caso promedio.\n"
   ]
  },
  {
   "cell_type": "markdown",
   "id": "cf3bb09d",
   "metadata": {},
   "source": [
    "10. Una visión teórica: Suponga el modelo\n",
    "$$y = β_0 + β_1x_1 + β_2x_2 + β_3x_1x_2 + e$$\n",
    "Reescríbalo como\n",
    "$$y = α_0 + δ_1x_1 + δ_2x_2 + β_3(x_1 − µ_1)(x_2 − µ_2) + e$$\n",
    "\n",
    "Muestre que $δ_2 = β_2+β_3µ_1$ y explique por qué esta reparametrización es útil para interpretar\n",
    "efectos parciales en el promedio. ¿Cómo interpretaría ahora los coeficientes sobre x1 y x2 en\n",
    "este nuevo modelo?¿En vez de µ1y µ2 puede usar otros valores de la distribución de x1 y x2?\n"
   ]
  },
  {
   "cell_type": "markdown",
   "id": "d792b66b",
   "metadata": {},
   "source": [
    "$$x_1 x_2= (x_1 - µ_1 +µ_1) (x_2 - µ_2 +µ_2) $$\n",
    "$$ = (x_1 - µ_1) (x_2 - µ_2) +u_2(x_1 + µ_1) + u_1(x_2 + µ_2) + µ_1 µ_2 $$\n",
    "$$ (x_1 - µ_1) (x_2 - µ_2) +µ_2 x_1 +µ_1 x_2 + µ_1 µ_2 $$\n",
    "\n",
    "Reemplazamos esto en el modelo original\n",
    "$$y = β_0 + β_1x_1 + β_2x_2 + β_3[(x_1 - µ_1) (x_2 - µ_2) +µ_2 x_1 +µ_1 x_2 + µ_1 µ_2  ] + e$$\n",
    "$$y = β_0 + β_3 (µ_1 µ_2) + β_1x_1 +β_3 (µ_2 x_1) + β_2x_2 + β_3(µ_1 x_2) + β_3[(x_1 - µ_1) (x_2 - µ_2)] + e$$\n",
    "$$y = β_0 + β_3 (µ_1 µ_2) + x_1(β_1 +β_3 µ_2) +x_2 (β_2 + β_3µ_1) + β_3[(x_1 + µ_1) (x_2 + µ_2)] + e$$\n",
    "\n",
    "Si\n",
    "- $α_0= β_0 + β_3 (µ_1 µ_2) $\n",
    "- $δ_1 = β_1 +β_3 µ_2 $\n",
    "- $δ_2 = β_2 + β_3µ_1$\n",
    "\n",
    "Reemplazamos en el  modelo:\n",
    "\n",
    "$$y = α_0 + δ_1x_1 + δ_2x_2 + β_3(x_1 − µ_1)(x_2 − µ_2) + e$$\n",
    "\n"
   ]
  },
  {
   "cell_type": "markdown",
   "id": "4d02ec27",
   "metadata": {},
   "source": [
    "- Esta reparametricación es util porque, al centrar la interacción de $x_1$ y $x_2$ en sus medias la interpretación de cada uno de los delta va a representar el efecto de esa variable en el outcome cuando la otra es igual a su promedio. \n",
    "- Bajo esta reparametrización $𝛿_1$ es el efecto marginal de $x_1$ sobre y cuando $x_2$ es igual a su media $𝜇_2$. Así mismo,  $𝛿_2$ es el efecto marginal de $x_2$ sobre y cuando $x_1$ es igual a su media $𝜇_1$.\n",
    "- Si se pueden usar otro valor representativo de la distribución muestra para reparametrizar el modelo, por ejemplo, la mediana.\n"
   ]
  }
 ],
 "metadata": {
  "kernelspec": {
   "display_name": "Python 3",
   "language": "python",
   "name": "python3"
  },
  "language_info": {
   "codemirror_mode": {
    "name": "ipython",
    "version": 3
   },
   "file_extension": ".py",
   "mimetype": "text/x-python",
   "name": "python",
   "nbconvert_exporter": "python",
   "pygments_lexer": "ipython3",
   "version": "3.12.6"
  }
 },
 "nbformat": 4,
 "nbformat_minor": 5
}

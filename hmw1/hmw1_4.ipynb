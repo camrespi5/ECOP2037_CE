{
 "cells": [
  {
   "cell_type": "markdown",
   "id": "b6ee4696",
   "metadata": {},
   "source": [
    "<h1>Supuestos sobre el término de error y sus implicaciones</h1>\n",
    "<p style=\"font-size:20px\">"
   ]
  },
  {
   "cell_type": "markdown",
   "id": "cfda8090",
   "metadata": {},
   "source": [
    "Considere el modelo simple lineal:\n",
    "\n",
    "$$\n",
    "y = \\beta x + e\n",
    "$$\n",
    "\n",
    "donde x ∈ ℝ es un regresor aleatorio con E[x²] < ∞, y e es el término de error.\n",
    "\n",
    "Se sabe lo siguiente:\n",
    "\n",
    "1. E[e | x] = 0  \n",
    "2. E[e² | x] = σ²(x), donde σ²(x) es una función no constante.  \n",
    "3. x tiene una distribución simétrica alrededor de su media.  \n",
    "4. Se sospecha que e no es independiente de x.\n"
   ]
  },
  {
   "cell_type": "markdown",
   "id": "be382527",
   "metadata": {},
   "source": [
    "1. Muestre que $E[x^{k}e] = 0 $ para todo k ∈ N, si x y e cumplen que E[e | x] = 0 y x es no\n",
    "estocásticamente relacionado con e.\n"
   ]
  },
  {
   "cell_type": "markdown",
   "id": "0383621e",
   "metadata": {},
   "source": [
    "Por Ley de la esperanza iterada\n",
    "$$E[x^k e]= E[E[x^{k} , e |x]] $$ \n",
    "$$=E[x^{k} E[e|x]] $$\n",
    "Sabemos que E[e|x]=0  , entonces               \n",
    "$$=E[x^{k} * 0]$$                \n",
    "$$= E[0]= 0     $$  \n",
    "            "
   ]
  },
  {
   "cell_type": "markdown",
   "id": "718e72cd",
   "metadata": {},
   "source": [
    "2. Verifique si la afirmación E[xe] = 0 implica que $E[x^{2}e] = 0$. Justifique con una breve demostración o contraejemplo."
   ]
  },
  {
   "cell_type": "markdown",
   "id": "b4908462",
   "metadata": {},
   "source": [
    "Dado el primer supuesto E[e | x] = 0 entonces la afirmacion se debe cumplir.\n",
    "\n",
    "Si el primer supuesto no fuese cierto entonces E[xe] = 0 no implica $E[x^{2}e] = 0$ porque a pesar de que no hay correlacion lineal en E[xe] = 0 no significa que no pueda existir en $E[x^{2}e]$."
   ]
  },
  {
   "cell_type": "markdown",
   "id": "445632fc",
   "metadata": {},
   "source": [
    "3. ¿La condición E[e | x] = 0 implica que e y x son independientes? Explique."
   ]
  },
  {
   "cell_type": "markdown",
   "id": "baed4dac",
   "metadata": {},
   "source": [
    "No. La condicion E[e | x] = 0 tan solo implica independencia en el valor esperado de x y el residuo, sin embargo, para que e y x sean independientes, se debería también para el segundo momento (la varianza) y, el segundo supuesto del modelo afirma que E[e² | x] = σ²(x), donde σ²(x) es una función no constante. Esto quiere decir que e y x no son independientes ya que la varianza de e sí depende de x."
   ]
  },
  {
   "cell_type": "markdown",
   "id": "97cd4c5e",
   "metadata": {},
   "source": [
    "4. ¿La condición E[xe] = 0 implica que E[e | x] = 0? Justifique su respuesta."
   ]
  },
  {
   "cell_type": "markdown",
   "id": "1dbc81c0",
   "metadata": {},
   "source": [
    "Supongamos que $e=x^2 - E[x^2]$\n",
    "$$ E[xe] =  E[x[x^2 - E[x^2]]]= E[x^3]-E[x^2]E[x] $$\n",
    "\n",
    "Suponiendo que x es simetrico alrededor del valor 0 entonces\n",
    "\n",
    "$$E[x^3]=E[x]=0$$\n",
    "$$E[xe] = 0$$\n",
    "\n",
    "pero:\n",
    "$$E[e|x] = E[x^2 - E[x^2]|x]$$\n",
    "$$E[e|x] = x^2 - E[x^2] $$ \n",
    "lo cual es diferente de cero\n",
    "\n",
    "Entonces, que $E[xe] = 0$ no implica que E[e | x] = 0\n",
    "\n",
    "\n",
    "\n"
   ]
  },
  {
   "cell_type": "markdown",
   "id": "a0dc8e12",
   "metadata": {},
   "source": [
    "5. ¿La combinación $ E[e | x] = 0$  y $ E[e^2| X] = σ^2 $ (constante) implica independencia entre e y x? Justifique"
   ]
  },
  {
   "cell_type": "markdown",
   "id": "090776b5",
   "metadata": {},
   "source": [
    "No. e y x pueden ser independientes el primer y segundo momento de e pero no significa que no exista algun momento de e donde estas dos esten correlacionadas. La distribucion de e puede depender de x."
   ]
  }
 ],
 "metadata": {
  "kernelspec": {
   "display_name": "Python 3",
   "language": "python",
   "name": "python3"
  },
  "language_info": {
   "codemirror_mode": {
    "name": "ipython",
    "version": 3
   },
   "file_extension": ".py",
   "mimetype": "text/x-python",
   "name": "python",
   "nbconvert_exporter": "python",
   "pygments_lexer": "ipython3",
   "version": "3.12.6"
  }
 },
 "nbformat": 4,
 "nbformat_minor": 5
}

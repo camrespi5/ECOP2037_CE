{
 "cells": [
  {
   "cell_type": "code",
   "execution_count": 1,
   "id": "481cab9e",
   "metadata": {},
   "outputs": [],
   "source": [
    "import numpy as np"
   ]
  },
  {
   "cell_type": "markdown",
   "id": "d77d9d01",
   "metadata": {},
   "source": [
    "<h1>Algebra del MCO</h1>\n",
    "<p style=\"font-size:20px\">"
   ]
  },
  {
   "cell_type": "markdown",
   "id": "49de6b9f",
   "metadata": {},
   "source": [
    "Queremos estimar el siguiente modelo de regresión lineal:\n",
    "\n",
    "$$\n",
    "y_i = \\beta_0 + \\beta_1 x_{i1} + \\beta_2 x_{i2} + e_i \\quad \\forall i = 1, ..., 5\n",
    "$$\n",
    "\n",
    "Es decir, contamos con 5 observaciones para realizar dicha estimación. Los datos son los siguientes:\n",
    "\n",
    "$$\n",
    "y = \\begin{bmatrix} 3 \\\\ 1 \\\\ 8 \\\\ 3 \\\\ 5 \\end{bmatrix} \\quad\n",
    "X = \\begin{bmatrix} 1 & 3 & 5 \\\\ 1 & 1 & 4 \\\\ 1 & 5 & 6 \\\\ 1 & 2 & 4 \\\\ 1 & 4 & 6 \\end{bmatrix}\n",
    "$$\n",
    "\n",
    "De forma matricial la ecuación a estimar sería,\n",
    "\n",
    "$$\n",
    "y = X\\beta + e\n",
    "$$"
   ]
  },
  {
   "cell_type": "code",
   "execution_count": 2,
   "id": "de7c90be",
   "metadata": {},
   "outputs": [],
   "source": [
    "##definimos matrices X y Y dadas por el ejercicio\n",
    "y=np.array([[3],[1],[8],[3],[5]])\n",
    "\n",
    "x=np.array([[1, 3, 5],\n",
    "            [1, 1, 4],\n",
    "            [1, 5, 6],\n",
    "            [1, 2, 4],\n",
    "            [1, 4, 6]])\n"
   ]
  },
  {
   "cell_type": "markdown",
   "id": "70a22b9a",
   "metadata": {},
   "source": [
    "1. Obtenga la estimación de mínimos cuadrados ordinarios: $βˆ = (X'X)ˆ{-1} X'y$. Indique específicamente el valor para $β_0ˆ, β_1ˆ, β_2ˆ$."
   ]
  },
  {
   "cell_type": "code",
   "execution_count": 3,
   "id": "19e05889",
   "metadata": {},
   "outputs": [
    {
     "name": "stdout",
     "output_type": "stream",
     "text": [
      "[[ 4. ]\n",
      " [ 2.5]\n",
      " [-1.5]]\n"
     ]
    }
   ],
   "source": [
    "x_t=x.T  ##calculamos x transpuesta\n",
    "x_xt_inv=np.linalg.inv(x_t @ x)  ##(x'x)^-1\n",
    "beta_hat= x_xt_inv @ (x_t @ y)   \n",
    "\n",
    "print(beta_hat)"
   ]
  },
  {
   "cell_type": "markdown",
   "id": "6bd47a3b",
   "metadata": {},
   "source": [
    "Donde\n",
    "$β_0ˆ $ es 4, $β_1ˆ $ es 2.5,$ β_2ˆ$ es -1.5."
   ]
  },
  {
   "cell_type": "markdown",
   "id": "d9c8ca19",
   "metadata": {},
   "source": [
    "2. Obtenga el vector de residuos eˆ = y − Xβˆ"
   ]
  },
  {
   "cell_type": "code",
   "execution_count": 4,
   "id": "e4967cd4",
   "metadata": {},
   "outputs": [
    {
     "name": "stdout",
     "output_type": "stream",
     "text": [
      "[[-1. ]\n",
      " [ 0.5]\n",
      " [ 0.5]\n",
      " [-0. ]\n",
      " [-0. ]]\n"
     ]
    }
   ],
   "source": [
    "y_hat= x @ beta_hat\n",
    "e_hat=y-y_hat\n",
    "print(e_hat.round(2))"
   ]
  },
  {
   "cell_type": "markdown",
   "id": "3586a824",
   "metadata": {},
   "source": [
    "3. Obtenga el vector de predicción yˆ = Xβˆ. ¿Cuál es la predicción del modelo para la observación 3? "
   ]
  },
  {
   "cell_type": "markdown",
   "id": "647ba259",
   "metadata": {},
   "source": [
    "Para la 3ra observacion, la prediccion es 7.5"
   ]
  },
  {
   "cell_type": "code",
   "execution_count": 5,
   "id": "7ac5b808",
   "metadata": {},
   "outputs": [
    {
     "name": "stdout",
     "output_type": "stream",
     "text": [
      "[7.5]\n"
     ]
    }
   ],
   "source": [
    "print(y_hat[2])"
   ]
  },
  {
   "cell_type": "markdown",
   "id": "56b9b046",
   "metadata": {},
   "source": [
    "4. Obtenga las matrices idempotentes P y M. Muestre las propiedades que se discutieron en\n",
    "clases."
   ]
  },
  {
   "cell_type": "markdown",
   "id": "2df40d78",
   "metadata": {},
   "source": [
    "En los siguientes pasos obtenemos la matriz P y mostramos sus propiedades."
   ]
  },
  {
   "cell_type": "code",
   "execution_count": 6,
   "id": "4b7c6438",
   "metadata": {},
   "outputs": [
    {
     "name": "stdout",
     "output_type": "stream",
     "text": [
      "1. P ES SIMETRICA porque p=p'\n",
      "[[ 0.2  0.2  0.2  0.2  0.2]\n",
      " [ 0.2  0.7 -0.3  0.2  0.2]\n",
      " [ 0.2 -0.3  0.7  0.2  0.2]\n",
      " [ 0.2  0.2  0.2  0.7 -0.3]\n",
      " [ 0.2  0.2  0.2 -0.3  0.7]] \n",
      " es igual a  \n",
      " [[ 0.2  0.2  0.2  0.2  0.2]\n",
      " [ 0.2  0.7 -0.3  0.2  0.2]\n",
      " [ 0.2 -0.3  0.7  0.2  0.2]\n",
      " [ 0.2  0.2  0.2  0.7 -0.3]\n",
      " [ 0.2  0.2  0.2 -0.3  0.7]]\n",
      "\n",
      "  2. P ES IDEMPOTENTE porque pp=p\n",
      "[[ 0.2  0.2  0.2  0.2  0.2]\n",
      " [ 0.2  0.7 -0.3  0.2  0.2]\n",
      " [ 0.2 -0.3  0.7  0.2  0.2]\n",
      " [ 0.2  0.2  0.2  0.7 -0.3]\n",
      " [ 0.2  0.2  0.2 -0.3  0.7]] \n",
      " es igual a  \n",
      " [[ 0.2  0.2  0.2  0.2  0.2]\n",
      " [ 0.2  0.7 -0.3  0.2  0.2]\n",
      " [ 0.2 -0.3  0.7  0.2  0.2]\n",
      " [ 0.2  0.2  0.2  0.7 -0.3]\n",
      " [ 0.2  0.2  0.2 -0.3  0.7]]\n",
      "\n",
      " 3. La traza de P es un valor k= 3.0\n"
     ]
    }
   ],
   "source": [
    "x_xt_inv=np.linalg.inv(x_t @ x)\n",
    "p=x@ (x_xt_inv) @ x_t   ##calculamos p\n",
    "\n",
    "## P es simetrica\n",
    "p_t=p.T\n",
    "print(r\"1. P ES SIMETRICA porque p=p'\")\n",
    "print(p, '\\n', 'es igual a ', '\\n', p_t)\n",
    "\n",
    "##P es idempotente\n",
    "pp=p@p\n",
    "print(\"\\n\",r\" 2. P ES IDEMPOTENTE porque pp=p\")\n",
    "print(pp, '\\n', 'es igual a ', '\\n', p)\n",
    "\n",
    "##tr(P)=k\n",
    "print('\\n',\"3. La traza de P es un valor k=\",np.trace(p).round(1))"
   ]
  },
  {
   "cell_type": "code",
   "execution_count": 7,
   "id": "3dd949b5",
   "metadata": {},
   "outputs": [
    {
     "name": "stdout",
     "output_type": "stream",
     "text": [
      "\n",
      "\n",
      "4.Los autovalores de p son:  [0.+0.j 0.-0.j 1.+0.j 1.-0.j 1.+0.j]\n",
      "\n",
      " Hay k=3 autovalores iguales a 1. Hay n-k=5-3=2 autovalores iguales a 0.\n",
      "\n",
      " 5.El rango de p es: 3\n",
      "\n",
      " 6. X=[X1 X2] entonces PX1=X1\n",
      "\n",
      " PX1= [[1. 3.]\n",
      " [1. 1.]\n",
      " [1. 5.]\n",
      " [1. 2.]\n",
      " [1. 4.]] \n",
      " es igual a \n",
      " X1= [[1 3]\n",
      " [1 1]\n",
      " [1 5]\n",
      " [1 2]\n",
      " [1 4]]\n"
     ]
    }
   ],
   "source": [
    "##Los autovalores de p son 1 y 0. k autovalores son 1 y n-k son 0\n",
    "print('\\n')\n",
    "autovalores = np.linalg.eigvals(p)\n",
    "print(\"4.Los autovalores de p son: \",autovalores.round(1))\n",
    "print(\"\\n\",\"Hay k=3 autovalores iguales a 1. Hay n-k=5-3=2 autovalores iguales a 0.\")\n",
    "\n",
    "##rank(p)=k\n",
    "rank = np.linalg.matrix_rank(p)\n",
    "print(\"\\n\",\"5.El rango de p es:\", rank)\n",
    "\n",
    "##px1=x1 donde de modo que x=[x1 x2]\n",
    "x1 = x[:, [0, 1]]\n",
    "p_x1=p@x1\n",
    "print('\\n','6. X=[X1 X2] entonces PX1=X1')\n",
    "print(\"\\n\",'PX1=',p_x1,'\\n','es igual a','\\n','X1=',x1)\n",
    "\n"
   ]
  },
  {
   "cell_type": "code",
   "execution_count": 8,
   "id": "6e3adb09",
   "metadata": {},
   "outputs": [
    {
     "name": "stdout",
     "output_type": "stream",
     "text": [
      "7.Py=xB^=y^\n",
      "py= [[4. ]\n",
      " [0.5]\n",
      " [7.5]\n",
      " [3. ]\n",
      " [5. ]] \n",
      " xB^= [[4. ]\n",
      " [0.5]\n",
      " [7.5]\n",
      " [3. ]\n",
      " [5. ]] \n",
      " y^= [[4. ]\n",
      " [0.5]\n",
      " [7.5]\n",
      " [3. ]\n",
      " [5. ]]\n"
     ]
    }
   ],
   "source": [
    "##Py=xB^=y^\n",
    "py=p@y\n",
    "x_betahat=x@beta_hat\n",
    "print('7.Py=xB^=y^')\n",
    "print('py=',py,'\\n','xB^=',x_betahat, '\\n','y^=',y_hat)"
   ]
  },
  {
   "cell_type": "markdown",
   "id": "097fbeb6",
   "metadata": {},
   "source": [
    "En los siguientes pasos obtenemos la matriz m y mostramos sus propiedades"
   ]
  },
  {
   "cell_type": "code",
   "execution_count": 9,
   "id": "1da523ce",
   "metadata": {},
   "outputs": [
    {
     "name": "stdout",
     "output_type": "stream",
     "text": [
      "1. M ES SIMETRICA porque m=m'\n",
      "[[ 0.8 -0.2 -0.2 -0.2 -0.2]\n",
      " [-0.2  0.3  0.3 -0.2 -0.2]\n",
      " [-0.2  0.3  0.3 -0.2 -0.2]\n",
      " [-0.2 -0.2 -0.2  0.3  0.3]\n",
      " [-0.2 -0.2 -0.2  0.3  0.3]] \n",
      " es igual a  \n",
      " [[ 0.8 -0.2 -0.2 -0.2 -0.2]\n",
      " [-0.2  0.3  0.3 -0.2 -0.2]\n",
      " [-0.2  0.3  0.3 -0.2 -0.2]\n",
      " [-0.2 -0.2 -0.2  0.3  0.3]\n",
      " [-0.2 -0.2 -0.2  0.3  0.3]]\n",
      "\n",
      "  2. M ES IDEMPOTENTE porque mm=m\n",
      "[[ 0.8 -0.2 -0.2 -0.2 -0.2]\n",
      " [-0.2  0.3  0.3 -0.2 -0.2]\n",
      " [-0.2  0.3  0.3 -0.2 -0.2]\n",
      " [-0.2 -0.2 -0.2  0.3  0.3]\n",
      " [-0.2 -0.2 -0.2  0.3  0.3]] \n",
      " es igual a  \n",
      " [[ 0.8 -0.2 -0.2 -0.2 -0.2]\n",
      " [-0.2  0.3  0.3 -0.2 -0.2]\n",
      " [-0.2  0.3  0.3 -0.2 -0.2]\n",
      " [-0.2 -0.2 -0.2  0.3  0.3]\n",
      " [-0.2 -0.2 -0.2  0.3  0.3]]\n"
     ]
    }
   ],
   "source": [
    "I=np.eye((5))\n",
    "m=I-p   ##calculamos m\n",
    "\n",
    "## M es simetrica\n",
    "m_t=m.T\n",
    "print(r\"1. M ES SIMETRICA porque m=m'\")\n",
    "print(m, '\\n', 'es igual a ', '\\n', m_t)\n",
    "\n",
    "##M es idempotente\n",
    "mm= m @ m\n",
    "print(\"\\n\",r\" 2. M ES IDEMPOTENTE porque mm=m\")\n",
    "print(mm, '\\n', 'es igual a ', '\\n', m)\n"
   ]
  },
  {
   "cell_type": "code",
   "execution_count": 10,
   "id": "c097d0e6",
   "metadata": {},
   "outputs": [
    {
     "name": "stdout",
     "output_type": "stream",
     "text": [
      "\n",
      " 3. MX=0 :  [[ 0.  0.  0.]\n",
      " [ 0.  0.  0.]\n",
      " [-0. -0. -0.]\n",
      " [ 0.  0.  0.]\n",
      " [-0. -0. -0.]]\n",
      "\n",
      " 4. La traza de M es un valor n-k= 2.0\n",
      "\n",
      "\n",
      "5.Los autovalores de m son:  [ 1.+0.j  1.+0.j  0.+0.j -0.+0.j -0.-0.j]\n",
      "\n",
      " Hay n-k=2 autovalores iguales a 1. Hay k=3 autovalores iguales a 0.\n"
     ]
    }
   ],
   "source": [
    "##matriz de anulacion\n",
    "mx=m@x\n",
    "print('\\n',\"3. MX=0 : \",mx.round(2))\n",
    "\n",
    "##tr(M)=n-k\n",
    "print('\\n',\"4. La traza de M es un valor n-k=\",np.trace(m).round(1))\n",
    "\n",
    "##Los autovalores de m son 1 y 0. n-k autovalores son 1 y k son 0\n",
    "print('\\n')\n",
    "autovalores = np.linalg.eigvals(m)\n",
    "print(\"5.Los autovalores de m son: \",autovalores.round(1))\n",
    "print(\"\\n\",\"Hay n-k=2 autovalores iguales a 1. Hay k=3 autovalores iguales a 0.\")\n",
    "\n"
   ]
  },
  {
   "cell_type": "markdown",
   "id": "643e7a5f",
   "metadata": {},
   "source": [
    "5. Obtenga el vector de predicción yˆ = P y, compruebe si este resultado es igual al resultado\n",
    "obtenido en el literal 3)."
   ]
  },
  {
   "cell_type": "code",
   "execution_count": 12,
   "id": "ec9193ad",
   "metadata": {},
   "outputs": [
    {
     "name": "stdout",
     "output_type": "stream",
     "text": [
      "[[4. ]\n",
      " [0.5]\n",
      " [7.5]\n",
      " [3. ]\n",
      " [5. ]] es igual a \n",
      "[[4. ]\n",
      " [0.5]\n",
      " [7.5]\n",
      " [3. ]\n",
      " [5. ]]\n"
     ]
    }
   ],
   "source": [
    "y_hat2=p @ y\n",
    "\n",
    "print(y_hat, \"es igual a \")\n",
    "print(y_hat2)"
   ]
  },
  {
   "cell_type": "markdown",
   "id": "a837e7aa",
   "metadata": {},
   "source": [
    "6. Obtenga el vector de residuos eˆ = My, compruebe si este resultado es igual al del literal 2)."
   ]
  },
  {
   "cell_type": "code",
   "execution_count": 13,
   "id": "6bff3c16",
   "metadata": {},
   "outputs": [
    {
     "name": "stdout",
     "output_type": "stream",
     "text": [
      "[[-1. ]\n",
      " [ 0.5]\n",
      " [ 0.5]\n",
      " [-0. ]\n",
      " [-0. ]] es igual a \n",
      "[[-1. ]\n",
      " [ 0.5]\n",
      " [ 0.5]\n",
      " [ 0. ]\n",
      " [-0. ]]\n"
     ]
    }
   ],
   "source": [
    "e_hat2=m @ y\n",
    "print(e_hat.round(2), \"es igual a \")\n",
    "print(e_hat2.round(2))"
   ]
  },
  {
   "cell_type": "markdown",
   "id": "9037eb3f",
   "metadata": {},
   "source": [
    "Considere ahora la matriz \n",
    "$$\n",
    "M_0 = I − ι(ι'ι)^{−1}ι'\n",
    "$$\n",
    ", donde ι es un vector n × 1 de 1.\n"
   ]
  },
  {
   "cell_type": "markdown",
   "id": "514cf2b1",
   "metadata": {},
   "source": [
    "7. Obtenga el producto M0y. Con base en ese resultado, ¿cuál es la funcion entonces de la\n",
    "matriz M0?"
   ]
  },
  {
   "cell_type": "code",
   "execution_count": 14,
   "id": "d28c5ed4",
   "metadata": {},
   "outputs": [
    {
     "name": "stdout",
     "output_type": "stream",
     "text": [
      "[[-1.]\n",
      " [-3.]\n",
      " [ 4.]\n",
      " [-1.]\n",
      " [ 1.]]\n"
     ]
    }
   ],
   "source": [
    "iota=np.array([[1], [1], [1], [1], [1]])\n",
    "iota_t=iota.T\n",
    "iota_iota_t_inv=np.linalg.inv(iota_t @ iota)\n",
    "I=np.eye(5)\n",
    "\n",
    "M0=M0 = (I - iota @ iota_iota_t_inv @ iota_t).round(2)\n",
    "\n",
    "\n",
    "M0_y=M0 @ y\n",
    "print(M0_y)"
   ]
  },
  {
   "cell_type": "markdown",
   "id": "524d6541",
   "metadata": {},
   "source": [
    "8. Ahora, premultiplique la ecuación 2 por la matrix M0, y obtenga la fórmula para el estimador\n",
    "de MCO de esta ecuación transformada. Ea decir,\n",
    "$$M_0 y = M_ 0 Xβ + M_0 e $$\n",
    "Llame =X2 = M0X, sea β2 el vector resultante de esta transformación.\n",
    "¿Cuál es la dimensión del vector β? ¿Cuál es el resultado de M0e?"
   ]
  },
  {
   "cell_type": "code",
   "execution_count": 15,
   "id": "734a8b40",
   "metadata": {},
   "outputs": [
    {
     "name": "stdout",
     "output_type": "stream",
     "text": [
      "B^_2 es= [[ 2.5]\n",
      " [-1.5]]\n",
      "Su dimensión es de 2x1\n",
      "el resultado de M0e es igual a =\n",
      " [[-1. ]\n",
      " [ 0.5]\n",
      " [ 0.5]\n",
      " [ 0. ]\n",
      " [-0. ]]\n"
     ]
    }
   ],
   "source": [
    "x = x[:,1:3]\n",
    "x_t = x.T\n",
    "xt_m0_x= np.linalg.inv(x_t @ M0 @ x)\n",
    "beta_hat2=xt_m0_x @ x_t @ M0_y\n",
    "\n",
    "print(\"B^_2 es=\",beta_hat2.round(1))\n",
    "\n",
    "print(\"Su dimensión es de 2x1\")\n",
    "m0_x2=M0 @ x\n",
    "e_hat2= M0_y - m0_x2 @ beta_hat2\n",
    "print(\"el resultado de M0e es igual a =\\n\", np.round(e_hat2,2))\n",
    "\n"
   ]
  },
  {
   "cell_type": "markdown",
   "id": "6a4093dd",
   "metadata": {},
   "source": [
    "9. Usando los datos dados previamente, use la formula del literal anterior para obtener las estimaciones de los betas. ¿qué puede decir con respecto a las estimacion obtenidas previamente en el literal 1?\n"
   ]
  },
  {
   "cell_type": "code",
   "execution_count": 16,
   "id": "e6a16dea",
   "metadata": {},
   "outputs": [
    {
     "name": "stdout",
     "output_type": "stream",
     "text": [
      "[[ 2.5]\n",
      " [-1.5]]\n",
      "[[ 4. ]\n",
      " [ 2.5]\n",
      " [-1.5]]\n"
     ]
    }
   ],
   "source": [
    "# β2 = (X2'X2)^(-1) X2'y2\n",
    "beta2= xt_m0_x @ x_t @ M0_y\n",
    "beta2 = beta2.reshape(2, 1)\n",
    "print(beta2)\n",
    "print(beta_hat)"
   ]
  },
  {
   "cell_type": "markdown",
   "id": "ee1758b6",
   "metadata": {},
   "source": [
    "La diferencia es que el beta calculado con la ecuacion del literal anterior elimina la constante por eso el beta es de dimension 2x1 mientras que el beta calculado anteriormente es de 3x1."
   ]
  },
  {
   "cell_type": "markdown",
   "id": "90967996",
   "metadata": {},
   "source": [
    "10. ¿Cómo puede obtener la estimación para β0? Calcule."
   ]
  },
  {
   "cell_type": "code",
   "execution_count": 25,
   "id": "f608e7d8",
   "metadata": {},
   "outputs": [
    {
     "name": "stdout",
     "output_type": "stream",
     "text": [
      "[[4.]]\n"
     ]
    }
   ],
   "source": [
    "p2 = np.linalg.inv(iota.T @ iota) @ iota.T\n",
    "y_barra = p2 @ y\n",
    "x_barra = p2 @ m0_x2\n",
    "\n",
    "beta0 = y_barra - np.dot(x_barra,beta2)\n",
    "\n",
    "print(beta0)"
   ]
  },
  {
   "cell_type": "markdown",
   "id": "5e894791",
   "metadata": {},
   "source": [
    "11. Calcule $$β_0^ = ¯y − β_1ˆX_1¯ − β_2ˆX_2¯ $$"
   ]
  },
  {
   "cell_type": "code",
   "execution_count": 18,
   "id": "b5e85c7f",
   "metadata": {},
   "outputs": [
    {
     "name": "stdout",
     "output_type": "stream",
     "text": [
      "[[4.]]\n"
     ]
    }
   ],
   "source": [
    "beta0_2 = y_barra - beta2[0] @ x_barra[:,0] - beta2[1] @ x_barra[:,1]\n",
    "print(beta0_2)"
   ]
  },
  {
   "cell_type": "markdown",
   "id": "cdd84031",
   "metadata": {},
   "source": [
    "12. Calcule la suma de cuadrado totales $ T SS = y'M_0y$"
   ]
  },
  {
   "cell_type": "code",
   "execution_count": 19,
   "id": "8f845093",
   "metadata": {},
   "outputs": [
    {
     "name": "stdout",
     "output_type": "stream",
     "text": [
      "[[28.]]\n"
     ]
    }
   ],
   "source": [
    "y_t=y.T\n",
    "tss=y_t @ M0 @ y\n",
    "print(tss)"
   ]
  },
  {
   "cell_type": "markdown",
   "id": "2c1aaf26",
   "metadata": {},
   "source": [
    "13. Calcule la suma de cuadrado explicado ESS = β_2ˆ0X0\n",
    "2M0X2βˆ\n",
    "2"
   ]
  },
  {
   "cell_type": "code",
   "execution_count": 20,
   "id": "5cc5a49a",
   "metadata": {},
   "outputs": [
    {
     "name": "stdout",
     "output_type": "stream",
     "text": [
      "ESS: [[26.5]]\n"
     ]
    }
   ],
   "source": [
    "x2_t=m0_x2.T\n",
    "ess = beta2.T @ x2_t @ M0 @ m0_x2 @ beta2\n",
    "print(\"ESS:\", ess)"
   ]
  },
  {
   "cell_type": "markdown",
   "id": "0db752b7",
   "metadata": {},
   "source": [
    "14. Calcule la suma de cuadrado explicado RSS = ˆe' e"
   ]
  },
  {
   "cell_type": "code",
   "execution_count": 21,
   "id": "c8b9ac71",
   "metadata": {},
   "outputs": [
    {
     "name": "stdout",
     "output_type": "stream",
     "text": [
      "[[1.5]]\n"
     ]
    }
   ],
   "source": [
    "e_hat_t=e_hat.T\n",
    "rss=(e_hat_t @ e_hat).round(2)\n",
    "print(rss)"
   ]
  },
  {
   "cell_type": "markdown",
   "id": "2a78d6a1",
   "metadata": {},
   "source": [
    "15. Calcule el R2 y el R2 ajustado"
   ]
  },
  {
   "cell_type": "code",
   "execution_count": 22,
   "id": "992642c7",
   "metadata": {},
   "outputs": [
    {
     "name": "stdout",
     "output_type": "stream",
     "text": [
      "R2= [[0.95]]\n",
      "R2 ajustado= [[0.89]]\n"
     ]
    }
   ],
   "source": [
    "R2 = ess / tss\n",
    "\n",
    "n = y.shape[0]\n",
    "k = m0_x2.shape[1]\n",
    "R2_adj = 1 - ((1 - R2) * (n - 1) / (n - k - 1))\n",
    "\n",
    "print(\"R2=\", R2.round(2))\n",
    "print(\"R2 ajustado=\",R2_adj.round(2))"
   ]
  },
  {
   "cell_type": "markdown",
   "id": "16b6d74b",
   "metadata": {},
   "source": [
    "16. Siguiendo el algoritmo propuesto en el teorema FWL, desarrolle un codigo donde se evidencia\n",
    "cada una de los tres paso, y finalmente se muestre la estimacion de β2."
   ]
  },
  {
   "cell_type": "code",
   "execution_count": 23,
   "id": "6644b030",
   "metadata": {},
   "outputs": [],
   "source": [
    "x=np.array([[1, 3, 5],\n",
    "            [1, 1, 4],\n",
    "            [1, 5, 6],\n",
    "            [1, 2, 4],\n",
    "            [1, 4, 6]])"
   ]
  },
  {
   "cell_type": "code",
   "execution_count": 24,
   "id": "cf736b79",
   "metadata": {},
   "outputs": [
    {
     "name": "stdout",
     "output_type": "stream",
     "text": [
      "[[-1.5]]\n"
     ]
    }
   ],
   "source": [
    "X1 = x[:, [0, 1]] \n",
    "FWLbeta1 = np.linalg.inv(X1.T @ X1) @ X1.T @ y\n",
    "ee1 = y - X1 @ FWLbeta1\n",
    "X2 = x[:, [2]] \n",
    "FWLbeta_x2 = np.linalg.inv(X1.T @ X1) @ X1.T @ X2\n",
    "X2tilde = X2 - X1 @ FWLbeta_x2\n",
    "FWLbeta_2 = np.linalg.inv(X2tilde.T @ X2tilde) @ X2tilde.T @ ee1\n",
    "\n",
    "print(FWLbeta_2)"
   ]
  }
 ],
 "metadata": {
  "kernelspec": {
   "display_name": "Python 3",
   "language": "python",
   "name": "python3"
  },
  "language_info": {
   "codemirror_mode": {
    "name": "ipython",
    "version": 3
   },
   "file_extension": ".py",
   "mimetype": "text/x-python",
   "name": "python",
   "nbconvert_exporter": "python",
   "pygments_lexer": "ipython3",
   "version": "3.12.6"
  }
 },
 "nbformat": 4,
 "nbformat_minor": 5
}

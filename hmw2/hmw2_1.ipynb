{
 "cells": [
  {
   "cell_type": "code",
   "execution_count": 3,
   "id": "313bd914",
   "metadata": {},
   "outputs": [],
   "source": [
    "import numpy as np\n",
    "import statsmodels.api as sm\n",
    "from scipy import stats"
   ]
  },
  {
   "cell_type": "markdown",
   "id": "a3998c56",
   "metadata": {},
   "source": [
    "# Simulación de Monte Carlo: Evaluación del Estimador MCO y del Estadístico t \n"
   ]
  },
  {
   "cell_type": "markdown",
   "id": "e1134c87",
   "metadata": {},
   "source": [
    "El análisis de Monte Carlo simula una gran cantidad de muestras del modelo para estudiar la\n",
    "distribución en muestras finitas de los estimadores. En este ejercicio, utilizamos esta técnica para\n",
    "confirmar dos resultados en muestras finitas presentados en clases: la insesgadez del estimador de\n",
    "coeficientes MCO y la distribución del cociente t. El modelo es el siguiente modelo de regresión\n",
    "simple que satisface las suposiciones estudiadas en clase con n = 32. La ecuación de regresión es:\n",
    "$$y_i = β_1 + β_2x_i + ε_i \\quad (i = 1, 2, . . . , n)$$\n",
    "donde X = (1 : x) y β = $(β_1, β_2)'$. Los parámetros del modelo son $(β_1, β_2, σ_2)$. Elegimos una\n",
    "distribución particular al especificar el modelo de regresión como sigue: fijamos $β_1 = 1, \\quad β_2 = 0,5$\n",
    "y $σ_2 = 1$. La distribución de x = $(x_1, x_2, . . . , x_n)'$ se especifica mediante el siguiente proceso\n",
    "autorregresivo de orden 1 AR(1):\n",
    "$$x_i = c + \\phi x_{i−1} + η_i \\quad (i = 1, 2, . . . , n)$$\n",
    "donde ${η_i}$ son variables aleatorias i.i.d. N(0, 1) y \n",
    "$$\n",
    "x_0 \\sim \\mathcal{N} \\left( \\frac{c}{1 - \\phi}, \\frac{1}{1 - \\phi^2} \\right), \\quad c = 2,\\ \\phi = 0.6\n",
    "$$\n",
    "Esto fija la distribución conjunta de (y, X). A partir de esta distribución se generarán muchas\n",
    "muestras. Para programar la simulación, la siguiente expresión de x será útil. Se resuelve la ecuación\n",
    "en diferencias de primer orden anterior:\n",
    "$$\n",
    "x_i = \\phi^i x_0 + \\left(1 + \\phi + \\phi^2 + \\cdots + \\phi^{i-1} \\right) c + \\eta_i + \\phi \\eta_{i-1} + \\phi^2 \\eta_{i-2} + \\cdots + \\phi^{i-1} \\eta_1\n",
    "$$\n",
    "o en notación matricial\n",
    "$$\n",
    "\\mathbf{x}_{n \\times 1} = \\mathbf{r}_{n \\times 1} \\cdot x_0 + \\mathbf{d}_{n \\times 1} + \\mathbf{A}_{n \\times n} \\boldsymbol{\\eta}_{n \\times 1}\n",
    "$$\n",
    "donde:\n",
    "$$\n",
    "\\mathbf{d} = (d_1, d_2, \\ldots, d_n)', \\quad d_i = \\left(1 + \\phi + \\cdots + \\phi^{i-1}\\right) c\n",
    "$$\n",
    "\n",
    "$$\n",
    "\\mathbf{r} =\n",
    "\\begin{bmatrix}\n",
    "\\phi \\\\\n",
    "\\phi^2 \\\\\n",
    "\\vdots \\\\\n",
    "\\phi^n\n",
    "\\end{bmatrix}\n",
    "\\quad\n",
    "\\mathbf{A} =\n",
    "\\begin{bmatrix}\n",
    "1 & 0 & \\cdots & 0 \\\\\n",
    "\\phi & 1 & \\cdots & 0 \\\\\n",
    "\\phi^2 & \\phi & 1 & \\cdots \\\\\n",
    "\\vdots & \\vdots & \\vdots & \\vdots \\\\\n",
    "\\phi^{n-1} & \\phi^{n-2} & \\cdots & 1\n",
    "\\end{bmatrix}\n",
    "\\quad\n",
    "\\boldsymbol{\\eta} =\n",
    "\\begin{bmatrix}\n",
    "\\eta_1 \\\\\n",
    "\\eta_2 \\\\\n",
    "\\vdots \\\\\n",
    "\\eta_n\n",
    "\\end{bmatrix}\n",
    "$$\n",
    "\n"
   ]
  },
  {
   "cell_type": "markdown",
   "id": "a0815ab1",
   "metadata": {},
   "source": [
    "### 1. Inicializar un contador "
   ]
  },
  {
   "cell_type": "code",
   "execution_count": null,
   "id": "a7603dec",
   "metadata": {},
   "outputs": [],
   "source": [
    "contador=0"
   ]
  },
  {
   "cell_type": "markdown",
   "id": "bc024ecf",
   "metadata": {},
   "source": [
    "### 2. Repetir por muchas iteraciones:\n",
    "a) Generar una nueva x (nuevo $x_0$ y nueva η).\n"
   ]
  },
  {
   "cell_type": "code",
   "execution_count": 41,
   "id": "37f6b58e",
   "metadata": {},
   "outputs": [],
   "source": [
    "n = 32\n",
    "phi = 0.6\n",
    "c = 2\n",
    "beta_1 = 1\n",
    "beta_2 = 0.5\n",
    "sigma_2 = 1\n",
    "iteraciones = 10000"
   ]
  },
  {
   "cell_type": "code",
   "execution_count": null,
   "id": "c5bc5847",
   "metadata": {},
   "outputs": [],
   "source": [
    "for _ in range(iteraciones):\n",
    "    ##generamos x y eta\n",
    "    x0=np.random.normal(loc=c/(1-phi),scale=np.sqrt(c/(1-phi)**2))\n",
    "    eta=np.random.normal(0,1,n)\n",
    "\n",
    "    r=phi**np.arange(1,n+1)\n",
    "    d=np.array([sum([phi**j for j in range(i)])*c for i in range(1,n+1)])\n",
    "    A=np.zeros((n,n))\n",
    "    for i in range(n):\n",
    "        for j in range(i+1):\n",
    "            A[i,j]=phi ** i-j\n",
    "\n",
    "    \n",
    "    x=r*x0+d+A*eta\n",
    "    \n",
    "\n",
    "    ##generamo epsilon y y\n",
    "    epsilon = np.random.normal(0, np.sqrt(sigma_2), n)\n",
    "    y = beta_1 + beta_2 * x + epsilon\n",
    "\n",
    "\n",
    "\n"
   ]
  },
  {
   "cell_type": "markdown",
   "id": "108e0b5a",
   "metadata": {},
   "source": [
    "b) Generar ε ∼ N(0, I) y calcular y.\n",
    "c) Estimar el modelo y calcular el estadístico t para H0 : β2 = 0,5.\n",
    "d) Si |t| > t0,025(n − 2), incrementar el contad"
   ]
  }
 ],
 "metadata": {
  "kernelspec": {
   "display_name": "Python 3",
   "language": "python",
   "name": "python3"
  },
  "language_info": {
   "codemirror_mode": {
    "name": "ipython",
    "version": 3
   },
   "file_extension": ".py",
   "mimetype": "text/x-python",
   "name": "python",
   "nbconvert_exporter": "python",
   "pygments_lexer": "ipython3",
   "version": "3.12.6"
  }
 },
 "nbformat": 4,
 "nbformat_minor": 5
}

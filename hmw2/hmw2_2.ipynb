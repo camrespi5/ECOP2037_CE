{
 "cells": [
  {
   "cell_type": "code",
   "execution_count": 10,
   "id": "5cc6fd69",
   "metadata": {},
   "outputs": [],
   "source": [
    "import numpy as np"
   ]
  },
  {
   "cell_type": "markdown",
   "id": "5a6d0689",
   "metadata": {},
   "source": [
    "# Algebra de MCO: continuación del problema 2 (HMW 1)"
   ]
  },
  {
   "cell_type": "markdown",
   "id": "0221c175",
   "metadata": {},
   "source": [
    "## 2.1. Leverage Values"
   ]
  },
  {
   "cell_type": "markdown",
   "id": "c83b8c03",
   "metadata": {},
   "source": [
    "### 1.Obtenga el valor $h_{i i}$ para cada una de las observaciones $h_{i i}=X_i^{\\prime}\\left(\\boldsymbol{X}^{\\prime} \\boldsymbol{X}\\right)^{-1} X_i$"
   ]
  },
  {
   "cell_type": "code",
   "execution_count": 11,
   "id": "03e89bc3",
   "metadata": {},
   "outputs": [],
   "source": [
    "##definimos matrices X y Y dadas por el ejercicio\n",
    "y=np.array([[3],[1],[8],[3],[5]])\n",
    "\n",
    "x=np.array([[1, 3, 5],\n",
    "            [1, 1, 4],\n",
    "            [1, 5, 6],\n",
    "            [1, 2, 4],\n",
    "            [1, 4, 6]])"
   ]
  },
  {
   "cell_type": "code",
   "execution_count": 12,
   "id": "f106449b",
   "metadata": {},
   "outputs": [
    {
     "name": "stdout",
     "output_type": "stream",
     "text": [
      "[0.2 0.7 0.7 0.7 0.7]\n"
     ]
    }
   ],
   "source": [
    "hii = [ ]\n",
    "for i in range(0,5):\n",
    "    h_ii = x[i,:] @ np.round(np.linalg.inv(x.T @ x),4) @ x[i,:].T\n",
    "    hii.append(h_ii)\n",
    "\n",
    "hii = np.array(hii)\n",
    "print(hii)"
   ]
  },
  {
   "cell_type": "markdown",
   "id": "f8165bc8",
   "metadata": {},
   "source": [
    "### 2.Muestre que: i) $0 \\leq h_{i i} \\leq 1$"
   ]
  },
  {
   "cell_type": "code",
   "execution_count": 13,
   "id": "2174145a",
   "metadata": {},
   "outputs": [
    {
     "name": "stdout",
     "output_type": "stream",
     "text": [
      "True\n"
     ]
    }
   ],
   "source": [
    "print(np.all((hii >= 0) & (hii <= 1)))"
   ]
  },
  {
   "cell_type": "markdown",
   "id": "a33a47e9",
   "metadata": {},
   "source": [
    "ii) $h_{i i} \\geq 1 / n$ si $X$ incluye un intercepto"
   ]
  },
  {
   "cell_type": "code",
   "execution_count": 14,
   "id": "f8bb555f",
   "metadata": {},
   "outputs": [
    {
     "name": "stdout",
     "output_type": "stream",
     "text": [
      "True\n"
     ]
    }
   ],
   "source": [
    "print(np.all(hii >= 1 / len(x)))"
   ]
  },
  {
   "cell_type": "markdown",
   "id": "1fb02470",
   "metadata": {},
   "source": [
    "iii) $\\sum_{i=1}^n h_{i i}=k$"
   ]
  },
  {
   "cell_type": "code",
   "execution_count": 15,
   "id": "080f9750",
   "metadata": {},
   "outputs": [
    {
     "name": "stdout",
     "output_type": "stream",
     "text": [
      "True\n"
     ]
    }
   ],
   "source": [
    "print(np.round(np.sum(hii),4) == len(x.T))"
   ]
  },
  {
   "cell_type": "markdown",
   "id": "a16dc36d",
   "metadata": {},
   "source": [
    "### 3.Para cada una de las observaciones, obtenga el estimador LOO:\n",
    "$$\n",
    "\\hat{\\beta}_{(-i)}=\\left(\\sum_{j \\neq i} X_j X_j^{\\prime}\\right)^{-1}\\left(\\sum_{j \\neq i} X_j Y_j\\right)\n",
    "$$\n",
    "\n",
    "Note que por cada observación que saque, usted obtendrá los $\\hat{\\beta}_0, \\hat{\\beta}_1, \\hat{\\beta}_2$. En total tendrá 15 estimaciones!"
   ]
  },
  {
   "cell_type": "code",
   "execution_count": 19,
   "id": "7feca7c4",
   "metadata": {},
   "outputs": [
    {
     "name": "stdout",
     "output_type": "stream",
     "text": [
      "[[[ 4.25 ]\n",
      "  [ 2.5  ]\n",
      "  [-1.5  ]]\n",
      "\n",
      " [[ 5.333]\n",
      "  [ 3.333]\n",
      "  [-2.333]]\n",
      "\n",
      " [[ 2.   ]\n",
      "  [ 1.667]\n",
      "  [-0.667]]\n",
      "\n",
      " [[ 4.   ]\n",
      "  [ 2.5  ]\n",
      "  [-1.5  ]]\n",
      "\n",
      " [[ 4.   ]\n",
      "  [ 2.5  ]\n",
      "  [-1.5  ]]]\n"
     ]
    }
   ],
   "source": [
    "betahat_minusi = []\n",
    "for i in range(len(x)):\n",
    "    X_minus_i = np.delete(x, i, axis=0)\n",
    "    y_minus_i = np.delete(y, i, axis=0)\n",
    "    beta = np.round(np.linalg.inv(X_minus_i.T @ X_minus_i) @ X_minus_i.T @ y_minus_i,4)\n",
    "    betahat_minusi.append(beta)\n",
    "\n",
    "betahat_minusi = np.round(betahat_minusi,3)\n",
    "print(betahat_minusi)"
   ]
  },
  {
   "cell_type": "markdown",
   "id": "487fc3d9",
   "metadata": {},
   "source": [
    "### 4. Para cada observación obtenga: $\\tilde{Y}_i=X_i^{\\prime} \\hat{\\beta}_{(-i)}$. Muestre los valores."
   ]
  },
  {
   "cell_type": "code",
   "execution_count": 33,
   "id": "23e2f177",
   "metadata": {},
   "outputs": [
    {
     "name": "stdout",
     "output_type": "stream",
     "text": [
      "[4.25]\n",
      "[-0.666]\n",
      "[6.333]\n",
      "[3.]\n",
      "[5.]\n"
     ]
    }
   ],
   "source": [
    "y_tilde = [np.round(x[i,:] @ betahat_minusi[i],4) for i in range(len(x))]\n",
    "for i  in y_tilde:\n",
    "    print(i)"
   ]
  },
  {
   "cell_type": "markdown",
   "id": "36ed089f",
   "metadata": {},
   "source": [
    "### 5.Para cada observación obtenga: $\\tilde{e}_i=Y_i-\\tilde{Y}_i$. Muestre los valores."
   ]
  },
  {
   "cell_type": "code",
   "execution_count": 37,
   "id": "dc0ddedd",
   "metadata": {},
   "outputs": [
    {
     "name": "stdout",
     "output_type": "stream",
     "text": [
      "[[-1.25 ]\n",
      " [ 1.666]\n",
      " [ 1.667]\n",
      " [ 0.   ]\n",
      " [ 0.   ]]\n"
     ]
    }
   ],
   "source": [
    "e_tilde = y - y_tilde\n",
    "e_tilde = np.round(e_tilde,4)\n",
    "print(e_tilde)"
   ]
  },
  {
   "cell_type": "markdown",
   "id": "7148e157",
   "metadata": {},
   "source": [
    "### 6.Muestre que $\\widetilde{e}_i=\\left(1-h_{i i}\\right)^{-1} \\widehat{e_i}$. Muestre que los valores. conciden con aquellos del literal 5 ."
   ]
  },
  {
   "cell_type": "code",
   "execution_count": 41,
   "id": "23843226",
   "metadata": {},
   "outputs": [
    {
     "name": "stdout",
     "output_type": "stream",
     "text": [
      "[[-1.25  1.67  1.67 -0.   -0.  ]]\n",
      "Los valores coinciden\n"
     ]
    }
   ],
   "source": [
    "beta_hat = np.linalg.inv(x.T @ x) @ x.T @ y\n",
    "e_hat = np.round(y - x @ beta_hat,2)\n",
    "\n",
    "e_tilde_i = e_hat.T / (1 - hii) \n",
    "e_tilde_i = np.round(e_tilde_i,2)\n",
    "print(e_tilde_i)\n",
    "\n",
    "print('Los valores coinciden')\n"
   ]
  },
  {
   "cell_type": "markdown",
   "id": "ae692de7",
   "metadata": {},
   "source": [
    "## Matrices de Varianza y Covarianza"
   ]
  },
  {
   "cell_type": "markdown",
   "id": "0e821453",
   "metadata": {},
   "source": [
    "### 7.Obtenga el estimador de la varianza de lo erroes corregida por sesgo: $s^2=\\frac{1}{n-k} \\sum_{i=1}^n \\hat{e}_i^2$. Muestre los valores."
   ]
  },
  {
   "cell_type": "code",
   "execution_count": 43,
   "id": "2b9dd335",
   "metadata": {},
   "outputs": [
    {
     "name": "stdout",
     "output_type": "stream",
     "text": [
      "S^2:  0.5\n"
     ]
    }
   ],
   "source": [
    "n = 5\n",
    "k = 2\n",
    "s2 = (1 / (n - k)) * np.sum(e_hat**2)\n",
    "print(\"S^2: \",s2)"
   ]
  },
  {
   "cell_type": "markdown",
   "id": "11f78567",
   "metadata": {},
   "source": [
    "### 8.Obtenga el estimador de la varianza de los errores estandarizados: $\\bar{\\sigma}^2=\\frac{1}{n} \\sum_{i=1}^n\\left(1-h_{i i}\\right)^{-1} \\hat{e}_i^2$. Muestre los valores."
   ]
  },
  {
   "cell_type": "code",
   "execution_count": 53,
   "id": "fe6be41c",
   "metadata": {},
   "outputs": [
    {
     "name": "stdout",
     "output_type": "stream",
     "text": [
      "Estimador de varianza de los errores estandarizados:  1.0000000000000095\n"
     ]
    }
   ],
   "source": [
    "sigma_bar2 = (1 / n) * np.sum((1 - h_ii)**-1 * e_hat**2)\n",
    "print(\"Estimador de varianza de los errores estandarizados: \" , (sigma_bar2))\n"
   ]
  },
  {
   "cell_type": "markdown",
   "id": "0799b8b1",
   "metadata": {},
   "source": [
    "### 9.Obtenga la matriz de varianza y covarianza bajo homocedasticidad $\\tilde{\\boldsymbol{V}}_\\beta^Q=\\left(\\boldsymbol{X}^{\\prime} \\boldsymbol{X}\\right)^{-1} s^2$. Muestre los valores."
   ]
  },
  {
   "cell_type": "code",
   "execution_count": 52,
   "id": "2e43a0b7",
   "metadata": {},
   "outputs": [
    {
     "name": "stdout",
     "output_type": "stream",
     "text": [
      "Matriz de varianza y covarianza bajo homocedasticidad:\n",
      " [[13.35  2.25 -4.  ]\n",
      " [ 2.25  0.5  -0.75]\n",
      " [-4.   -0.75  1.25]]\n"
     ]
    }
   ],
   "source": [
    "v_beta= np.linalg.inv(x.T @ x) * s2\n",
    "print(\"Matriz de varianza y covarianza bajo homocedasticidad:\\n\", v_beta)"
   ]
  },
  {
   "cell_type": "markdown",
   "id": "2f5ea2bd",
   "metadata": {},
   "source": [
    "### 10. Obtenga el estimador de la matriz de varianza y convarianza consistente para heterocedasticidad HC0: $\\widehat{\\boldsymbol{V}}_\\beta^{\\mathrm{HC}}=\\left(\\boldsymbol{X}^{\\prime} \\boldsymbol{X}\\right)^{-1}\\left(\\sum_{i=1}^n X_i X_i^{\\prime} \\hat{e}_i^2\\right)\\left(\\boldsymbol{X}^{\\prime} \\boldsymbol{X}\\right)^{-1}$. Muestre los valores."
   ]
  },
  {
   "cell_type": "code",
   "execution_count": 54,
   "id": "dfc95821",
   "metadata": {},
   "outputs": [
    {
     "name": "stdout",
     "output_type": "stream",
     "text": [
      "el estimador de la matriz de varianza y convarianza consistente para heterocedasticidad HC0:\n",
      " [[ 0.56   0.25  -0.25 ]\n",
      " [ 0.25   0.125 -0.125]\n",
      " [-0.25  -0.125  0.125]]\n"
     ]
    }
   ],
   "source": [
    "e_hat_flat = e_hat.flatten()\n",
    "v_HC0 = np.linalg.inv(x.T @ x) @ np.sum([e_hat_flat[i]**2 * np.outer(x[i, :], x[i, :]) for i in range(n)], axis=0) @ np.linalg.inv(x.T @ x)\n",
    "print(\"el estimador de la matriz de varianza y convarianza consistente para heterocedasticidad HC0:\\n\", v_HC0)"
   ]
  },
  {
   "cell_type": "markdown",
   "id": "af0c3ac2",
   "metadata": {},
   "source": [
    "### 11. Obtenga el estimador de la matriz de varianza y convarianza consistente para heterocedasticidad $\\mathrm{HC} 1 \\hat{\\boldsymbol{V}}_{\\boldsymbol{\\beta}}^{\\mathrm{HCl}}=\\left(\\frac{n}{n-k}\\right)\\left(\\boldsymbol{X}^{\\prime} \\boldsymbol{X}\\right)^{-1}\\left(\\sum_{i=1}^n X_i X_i^{\\prime} \\hat{e}_i^2\\right)\\left(\\boldsymbol{X}^{\\prime} \\boldsymbol{X}\\right)^{-1}$. Muestre los valores."
   ]
  },
  {
   "cell_type": "code",
   "execution_count": 55,
   "id": "7c8ac8e3",
   "metadata": {},
   "outputs": [
    {
     "name": "stdout",
     "output_type": "stream",
     "text": [
      "l estimador de la matriz de varianza y convarianza consistente para heterocedasticidad [[ 0.9333  0.4167 -0.4167]\n",
      " [ 0.4167  0.2083 -0.2083]\n",
      " [-0.4167 -0.2083  0.2083]]\n"
     ]
    }
   ],
   "source": [
    "v_HC1 = (n / (n - k)) * v_HC0\n",
    "v_HC1 = np.round(v_HC1,4)\n",
    "print(\"l estimador de la matriz de varianza y convarianza consistente para heterocedasticidad\", v_HC1)"
   ]
  },
  {
   "cell_type": "markdown",
   "id": "1a39c090",
   "metadata": {},
   "source": [
    "### 12.Obtenga el estimador de la matriz de varianza y convarianza consistente para heterocedasticidad HC2 $\\hat{\\boldsymbol{V}}_{\\boldsymbol{\\beta}}^{\\mathrm{HC} 2}=\\left(\\boldsymbol{X}^{\\prime} \\boldsymbol{X}\\right)^{-1}\\left(\\sum_{i=1}^n\\left(1-h_{i i}\\right)^{-1} X_i X_i^{\\prime} \\hat{e}_i^2\\right)\\left(\\boldsymbol{X}^{\\prime} \\boldsymbol{X}\\right)^{-1}$. Muestre los valores."
   ]
  },
  {
   "cell_type": "code",
   "execution_count": 56,
   "id": "0d109b52",
   "metadata": {},
   "outputs": [
    {
     "name": "stdout",
     "output_type": "stream",
     "text": [
      "el estimador de la matriz de varianza y convarianza consistente para heterocedasticidad HC2:\n",
      " [[ 1.7833  0.8333 -0.8333]\n",
      " [ 0.8333  0.4167 -0.4167]\n",
      " [-0.8333 -0.4167  0.4167]]\n"
     ]
    }
   ],
   "source": [
    "v_HC2 = np.linalg.inv(x.T @ x) @ np.sum([(e_hat_flat[i]**2) * (1 - hii[i])**-1 * np.outer(x[i, :], x[i, :]) for i in range(n)\n",
    "], axis=0) @ np.linalg.inv(x.T @ x)\n",
    "v_HC2 = np.round(v_HC2, 4)\n",
    "print(\"el estimador de la matriz de varianza y convarianza consistente para heterocedasticidad HC2:\\n\", v_HC2)"
   ]
  },
  {
   "cell_type": "markdown",
   "id": "da460e9f",
   "metadata": {},
   "source": [
    "### 13.Obtenga el estimador de la matriz de varianza y convarianza consistente para heterocedasticidad HC3 $\\hat{\\boldsymbol{V}}_{\\boldsymbol{\\beta}}^{\\mathrm{HC} 3}=\\left(\\boldsymbol{X}^{\\prime} \\boldsymbol{X}\\right)^{-1}\\left(\\sum_{i=1}^n\\left(1-h_{i i}\\right)^{-2} X_i X_i^{\\prime} \\hat{e}_i^2\\right)\\left(\\boldsymbol{X}^{\\prime} \\boldsymbol{X}\\right)^{-1}$. Muestre los valores."
   ]
  },
  {
   "cell_type": "code",
   "execution_count": 57,
   "id": "0cb54efc",
   "metadata": {},
   "outputs": [
    {
     "name": "stdout",
     "output_type": "stream",
     "text": [
      "el estimador de la matriz de varianza y convarianza consistente para heterocedasticidad HC3:\n",
      " [[ 5.8403  2.7778 -2.7778]\n",
      " [ 2.7778  1.3889 -1.3889]\n",
      " [-2.7778 -1.3889  1.3889]]\n"
     ]
    }
   ],
   "source": [
    "v_HC3 = np.linalg.inv(x.T @ x) @ np.sum([e_hat_flat[i]**2 * (1 - hii[i])**-2 * np.outer(x[i, :], x[i, :]) for i in range(n)\n",
    "], axis=0) @ np.linalg.inv(x.T @ x)\n",
    "v_HC3 = np.round(v_HC3, 4)\n",
    "print(\"el estimador de la matriz de varianza y convarianza consistente para heterocedasticidad HC3:\\n\", v_HC3)"
   ]
  }
 ],
 "metadata": {
  "kernelspec": {
   "display_name": "Python 3",
   "language": "python",
   "name": "python3"
  },
  "language_info": {
   "codemirror_mode": {
    "name": "ipython",
    "version": 3
   },
   "file_extension": ".py",
   "mimetype": "text/x-python",
   "name": "python",
   "nbconvert_exporter": "python",
   "pygments_lexer": "ipython3",
   "version": "3.12.6"
  }
 },
 "nbformat": 4,
 "nbformat_minor": 5
}

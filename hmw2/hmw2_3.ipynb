{
 "cells": [
  {
   "cell_type": "code",
   "execution_count": null,
   "id": "17bcc398",
   "metadata": {},
   "outputs": [],
   "source": []
  },
  {
   "cell_type": "markdown",
   "id": "5947a2bf",
   "metadata": {},
   "source": [
    "# Modelo de regresión simple"
   ]
  },
  {
   "cell_type": "markdown",
   "id": "89f5fd5b",
   "metadata": {},
   "source": [
    "Sea $ϵ_1,..., ϵ_n $ iid N~[0; $σ^2$]. Considere que cada $ϵ_1$ puede ser escrito como una función de datos observados para $x_i$ y $y_i$. Es decir, $ϵ_1$ = $y_i-α−βx_ \n",
    "i$"
   ]
  },
  {
   "cell_type": "markdown",
   "id": "83d160f8",
   "metadata": {},
   "source": [
    "### 1. Escriba la funcion log-likelihood."
   ]
  },
  {
   "cell_type": "markdown",
   "id": "a41b8af0",
   "metadata": {},
   "source": [
    "La función de densidad condicional para una observación es:\n",
    "\n",
    "$$\n",
    "f(y_i \\mid x_i; \\alpha, \\beta, \\sigma^2) = \\frac{1}{\\sqrt{2\\pi\\sigma^2}} \\exp\\left( -\\frac{(y_i - \\alpha - \\beta x_i)^2}{2\\sigma^2} \\right)\n",
    "$$\n",
    "\n",
    "Entonces la funcion de log-likelihood es:\n",
    "\n",
    "$$\n",
    "\\log L(\\alpha, \\beta, \\sigma^2) = \\sum_{i=1}^n \\log f(y_i \\mid x_i; \\alpha, \\beta, \\sigma^2)\n",
    "$$\n",
    "\n",
    "$$\n",
    "= -\\frac{n}{2} \\log(2\\pi) - \\frac{n}{2} \\log(\\sigma^2) - \\frac{1}{2\\sigma^2} \\sum_{i=1}^n (y_i - \\alpha - \\beta x_i)^2\n",
    "$$"
   ]
  },
  {
   "cell_type": "markdown",
   "id": "1ac629b4",
   "metadata": {},
   "source": [
    "2. Encuentre el estimador de maxima verosimilitud para α, β, $σ^2$"
   ]
  },
  {
   "cell_type": "markdown",
   "id": "6ee4c089",
   "metadata": {},
   "source": [
    "Primero maximizamos la funcion log-likelihood con respecto a α para encontrar α^:\n",
    "$$\n",
    "\\frac{\\partial \\log L}{\\partial \\alpha} = \\frac{1}{\\sigma^2} \\sum_{i=1}^n (y_i - \\alpha - \\beta x_i)=0\n",
    "$$\n",
    "Y encontramos que α^ es: \n",
    "$$\n",
    "\\hat{\\alpha} =  \\frac{1}{n} \\sum_{i=1}^n (y_i  - \\hat{\\beta} x_i)=  \\bar{y} - \\hat{\\beta} \\bar{x}\n",
    "$$\n"
   ]
  },
  {
   "cell_type": "markdown",
   "id": "920925f7",
   "metadata": {},
   "source": [
    "Luego sustituimos el α^ y maximizamos con respecto a β para encontrar β^:\n",
    "$$\n",
    "\\frac{dlog L}{d\\beta} = \\frac{-1}{ \\sigma^2} \\sum_{i=1}^n \\left[ (y_i - \\bar{y}) - \\beta(x_i - \\bar{x}) \\right](x_i - \\bar{x}) = 0\n",
    "$$\n",
    "Despejamos β y encontramos β^:\n",
    "$$\n",
    "\\hat{\\beta} = \\frac{\\sum_{i=1}^n (x_i - \\bar{x})(y_i - \\bar{y})}{\\sum_{i=1}^n (x_i - \\bar{x})^2}\n",
    "$$\n"
   ]
  },
  {
   "cell_type": "markdown",
   "id": "e13fc88d",
   "metadata": {},
   "source": [
    "Finalmente derivamos con respecto a $σ^2$\n",
    "$$\n",
    "\n",
    "\\frac{dlog L}{d\\sigma^2}= -\\frac{n}{2 \\sigma^2} + \\frac{1}{2 \\sigma^4} \\sum_{i=1}^n (y_i - \\alpha - \\beta x_i)^{2}\n",
    "$$\n",
    "y obtenemos que:\n",
    "$$\n",
    "\\hat{\\sigma^2}= \\frac{1}{n} \\sum{i=1}^n (y_i - \\hat{\\alpha} - \\hat{\\beta} x_i)^{2}\n",
    "$$\n",
    "dado que:\n",
    "$$\n",
    "RSS= \\sum{i=1}^n (y_i - \\hat{\\alpha} - \\hat{\\beta} x_i)^{2}\n",
    "$$\n",
    "Entonces:\n",
    "$$\n",
    "\\hat{\\sigma^2}= \\frac{RSS}{n} "
   ]
  },
  {
   "cell_type": "markdown",
   "id": "9ec8cab1",
   "metadata": {},
   "source": [
    "### 3. Encuentre el limite inferior Cramer-Rao."
   ]
  },
  {
   "cell_type": "markdown",
   "id": "e7ca3e98",
   "metadata": {},
   "source": []
  }
 ],
 "metadata": {
  "kernelspec": {
   "display_name": "Python 3",
   "language": "python",
   "name": "python3"
  },
  "language_info": {
   "codemirror_mode": {
    "name": "ipython",
    "version": 3
   },
   "file_extension": ".py",
   "mimetype": "text/x-python",
   "name": "python",
   "nbconvert_exporter": "python",
   "pygments_lexer": "ipython3",
   "version": "3.12.6"
  }
 },
 "nbformat": 4,
 "nbformat_minor": 5
}

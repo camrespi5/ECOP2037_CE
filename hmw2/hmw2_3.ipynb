{
 "cells": [
  {
   "cell_type": "code",
   "execution_count": 74,
   "id": "17bcc398",
   "metadata": {},
   "outputs": [],
   "source": [
    "import numpy as np\n",
    "import pandas as pd\n",
    "from scipy.stats import norm\n",
    "from scipy.optimize import minimize"
   ]
  },
  {
   "cell_type": "markdown",
   "id": "5947a2bf",
   "metadata": {},
   "source": [
    "# Modelo de regresión simple"
   ]
  },
  {
   "cell_type": "markdown",
   "id": "89f5fd5b",
   "metadata": {},
   "source": [
    "Sea $ϵ_1,..., ϵ_n $ iid N~[0; $σ^2$]. Considere que cada $ϵ_1$ puede ser escrito como una función de datos observados para $x_i$ y $y_i$. Es decir, $ϵ_1$ = $y_i-α−βx_ i$"
   ]
  },
  {
   "cell_type": "markdown",
   "id": "83d160f8",
   "metadata": {},
   "source": [
    "### 1. Escriba la funcion log-likelihood."
   ]
  },
  {
   "cell_type": "markdown",
   "id": "947d82bb",
   "metadata": {},
   "source": [
    "La función $ = y_i=α+βx_ i+ϵ_1$ puede ser escrita en su forma matricial:\n",
    "$$ Y= β X + ϵ $$\n",
    "tal que\n",
    "$$ Y= [yi]  ; β= \\begin{bmatrix} \\alpha \\\\ \\beta \\end{bmatrix}; X= \\begin{bmatrix} 1 & x_i \\end{bmatrix}; ϵ=[ϵ_i]  $$\n"
   ]
  },
  {
   "cell_type": "markdown",
   "id": "6673ad85",
   "metadata": {},
   "source": [
    "La función de densidad condicional para una observación es:\n",
    "$$\n",
    "f(Y \\mid X; , \\beta, \\sigma^2) = \\frac{1}{\\sqrt{2\\pi\\sigma^2}} \\exp\\left( -\\frac{(Y-X \\beta)'(Y-X \\beta)}{2\\sigma^2} \\right)\n",
    "$$\n",
    "\n",
    "Entonces la funcion de log-likelihood es:\n",
    "$$\n",
    "\\log L( \\beta, \\sigma^2) = \\sum_{i=1}^n \\log f(Y \\mid X; \\beta, \\sigma^2)\n",
    "$$\n",
    "\n",
    "$$\n",
    "= -\\frac{n}{2} \\log(2\\pi) - \\frac{n}{2} \\log(\\sigma^2) - \\frac{1}{2\\sigma^2} \\sum_{i=1}^n (Y-X \\beta)'(Y-X \\beta)\n",
    "$$"
   ]
  },
  {
   "cell_type": "markdown",
   "id": "1ac629b4",
   "metadata": {},
   "source": [
    "### 2. Encuentre el estimador de maxima verosimilitud para α, β, $σ^2$"
   ]
  },
  {
   "cell_type": "markdown",
   "id": "0ad734bc",
   "metadata": {},
   "source": [
    "Primero maximizamos la funcion log-likelihood con respecto a β para encontrar β^:\n",
    "$$\n",
    "\\frac{\\partial \\log L}{\\partial \\beta} = \\frac{1}{\\sigma^2} X' (Y-X\\beta)=0\n",
    "$$\n",
    "Y encontramos que β^ es: \n",
    "$$\n",
    "\\hat{\\beta} =  (X' X)^{-1} (X'Y)\n",
    "$$\n",
    "\n",
    "Tal que \n",
    "$$ \\hat{\\beta}= \\begin{bmatrix} \\hat{\\alpha} \\\\ \\hat{\\beta} \\end{bmatrix}"
   ]
  },
  {
   "cell_type": "markdown",
   "id": "ac2db231",
   "metadata": {},
   "source": [
    "Finalmente derivamos con respecto a $σ^2$\n",
    "$$\n",
    "\n",
    "\\frac{dlog L}{d\\sigma^2}= -\\frac{n}{2 \\sigma^2} + \\frac{1}{2 \\sigma^4} (Y-X \\beta)'(Y-X \\beta)\n",
    "$$\n",
    "y obtenemos que:\n",
    "$$\n",
    "\\hat{\\sigma^2}= \\frac{1}{n} (Y-X \\hat{\\beta})'(Y-X \\hat{\\beta})\n",
    "$$\n",
    "dado que:\n",
    "$$\n",
    "RSS= (Y-X \\hat{\\beta})'(Y-X \\hat{\\beta})= ϵ'ϵ\n",
    "$$\n",
    "Entonces:\n",
    "$$\n",
    "\\hat{\\sigma^2}= \\frac{RSS}{n} = \\frac{ϵ'ϵ}{n}"
   ]
  },
  {
   "cell_type": "markdown",
   "id": "9ec8cab1",
   "metadata": {},
   "source": [
    "### 3. Encuentre el limite inferior Cramer-Rao."
   ]
  },
  {
   "cell_type": "markdown",
   "id": "e7ca3e98",
   "metadata": {},
   "source": [
    "$$S(\\theta) = \\begin{bmatrix} \\frac{1}{\\sigma^2} X' (Y-X \\ \\beta) \\\\ -\\frac{n}{2 \\sigma^2} + \\frac{1}{2 \\sigma^4} (Y-X \\beta)'(Y-X \\beta) \\end{bmatrix} $$\n",
    "$\\quad$\n",
    "$$ I(\\theta) = E[S(\\theta) S(\\theta)'] $$\n",
    "$\\quad$\n",
    "$$ I(\\theta) = E[\\begin{bmatrix} \\frac{1}{\\sigma^2} X'X & \\frac{1}{\\sigma^2} X' (Y-X\\beta ) \\\\ \\frac{1}{\\sigma^2} X' (Y-X\\beta ) & \\frac{n}{2 \\sigma^4} - \\frac{1}{\\sigma^6} (Y-X\\beta )' (Y-X\\beta )  \\end{bmatrix}] $$\n",
    "$\\quad$\n",
    "$$ I(\\theta) = \\begin{bmatrix} \\frac{1}{\\sigma^2} X'X & 0 \\\\ 0' & \\frac{n}{2 \\sigma^4} \\end{bmatrix} $$\n",
    "$$ Cota \\quad de \\quad Cramer-Rao= I(\\theta)^{-1} = \\begin{bmatrix} \\sigma^2 (X'X)^{-1} & 0 \\\\ 0' & \\frac{2 \\sigma^4}{n} \\end{bmatrix}  $$"
   ]
  },
  {
   "cell_type": "markdown",
   "id": "9326b0ef",
   "metadata": {},
   "source": [
    "### 4. Escriba el Likelihood Ratio test para H0 : β = 0"
   ]
  },
  {
   "cell_type": "markdown",
   "id": "8cc23de5",
   "metadata": {},
   "source": [
    "Sea la funcion de verosimilitud sin restriccion:\n",
    "$$ L_u= (\\frac{2 \\pi}{n})^{-n/2} * exp(-\\frac{n}{2}) * (RSS_u)^{-n/2} $$\n",
    "y la funcion con restriccion\n",
    "$$ L_R= (\\frac{2 \\pi}{n})^{-n/2} * exp(-\\frac{n}{2}) * (RSS_R)^{-n/2} $$\n",
    "El ratio sera:\n",
    "$$ \\lambda = \\frac{L_u}{L_R} = (\\frac{RSS_u}{RSS_R})^{-n/2} $$\n"
   ]
  },
  {
   "cell_type": "markdown",
   "id": "2c620edc",
   "metadata": {},
   "source": [
    "### 5. Escriba un programa en Python que le permita estimar por ML la siguiente expresion:\n",
    "$$\n",
    "\\text{wage}_i = \\beta_1 \\cdot \\text{education}_i + \\beta_2 \\cdot \\text{experience}_i + \\beta_3 \\cdot \\text{exp2}_i + \\beta_4 + \\varepsilon_i\n",
    "$$\n",
    "Para ello, use la base de datos de la Encuesta de Población Actual (CPS), provista en HMW"
   ]
  },
  {
   "cell_type": "code",
   "execution_count": 75,
   "id": "3fe92a5d",
   "metadata": {},
   "outputs": [],
   "source": [
    "url=r\"C:\\Users\\Camil\\Documents\\GitHub\\ECOP2037_CE\\hmw2\\cps09mar.csv\"\n",
    "df = pd.read_csv(url)"
   ]
  },
  {
   "cell_type": "code",
   "execution_count": 76,
   "id": "577a9c4c",
   "metadata": {},
   "outputs": [],
   "source": [
    "df['wage']=df[\"earnings\"]/df[\"week\"]/df[\"hours\"]\n",
    "df['experience']=df['age']-df['education']-6\n",
    "df['exp2']=df['experience']**2\n",
    "y = df[\"wage\"].values\n",
    "X = df[[\"education\", \"experience\", \"exp2\"]].copy()\n",
    "X = X[[ \"education\", \"experience\", \"exp2\"]].values\n",
    "X = np.column_stack((X, np.ones(len(X))))  # Agrega la constante (beta_4)\n"
   ]
  },
  {
   "cell_type": "code",
   "execution_count": 79,
   "id": "4d12f00b",
   "metadata": {},
   "outputs": [
    {
     "name": "stdout",
     "output_type": "stream",
     "text": [
      "Fallo en la optimización: Desired error not necessarily achieved due to precision loss.\n"
     ]
    }
   ],
   "source": [
    "def neg_log_likelihood(params):\n",
    "    beta = params[:-1]\n",
    "    log_sigma = params[-1]\n",
    "    sigma = np.exp(log_sigma)  # Forzamos sigma > 0\n",
    "\n",
    "    xb = X @ beta\n",
    "    ll = norm.logpdf(y, loc=xb, scale=sigma)\n",
    "    \n",
    "    if np.any(np.isnan(ll)):\n",
    "        return np.inf  # penaliza si hay problemas\n",
    "    return -np.sum(ll)\n",
    "\n",
    "# Valores iniciales: [0, 0, 0, 0, log(1)]\n",
    "init_params = np.zeros(X.shape[1] + 1)\n",
    "\n",
    "# Optimización\n",
    "result = minimize(neg_log_likelihood, init_params, method='BFGS')\n",
    "\n",
    "# Resultados\n",
    "if result.success:\n",
    "    est_params = result.x\n",
    "    beta = est_params[:-1]\n",
    "    sigma = np.exp(est_params[-1])  # Reconvertimos sigma\n",
    "    print(\"Estimación exitosa.\")\n",
    "    print(\"Coeficientes beta:\", beta)\n",
    "    print(\"Sigma (desvío estándar del error):\", sigma)\n",
    "else:\n",
    "    print(\"Fallo en la optimización:\", result.message)"
   ]
  }
 ],
 "metadata": {
  "kernelspec": {
   "display_name": "Python 3",
   "language": "python",
   "name": "python3"
  },
  "language_info": {
   "codemirror_mode": {
    "name": "ipython",
    "version": 3
   },
   "file_extension": ".py",
   "mimetype": "text/x-python",
   "name": "python",
   "nbconvert_exporter": "python",
   "pygments_lexer": "ipython3",
   "version": "3.12.6"
  }
 },
 "nbformat": 4,
 "nbformat_minor": 5
}

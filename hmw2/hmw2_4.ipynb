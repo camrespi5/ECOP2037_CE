{
 "cells": [
  {
   "cell_type": "code",
   "execution_count": 26,
   "id": "9172c49a",
   "metadata": {},
   "outputs": [],
   "source": [
    "import pandas as pd\n",
    "import numpy as np\n",
    "import statsmodels.formula.api as smf\n",
    "import statsmodels.api as sm"
   ]
  },
  {
   "cell_type": "markdown",
   "id": "733032fe",
   "metadata": {},
   "source": [
    "# Efecto del Tracking Escolar y Inferencia con Muestras Agrupadas"
   ]
  },
  {
   "cell_type": "markdown",
   "id": "1f41f09c",
   "metadata": {},
   "source": [
    "En contextos donde las unidades de observación están naturalmente agrupadas (como estudiantes\n",
    "dentro de escuelas), la independencia entre observaciones puede no cumplirse. Esto afecta la inferencia\n",
    "estadística, ya que los errores estándar convencionales pueden subestimar la varianza real\n",
    "del estimador. En este ejercicio trabajaremos con datos de un experimento aleatorizado en escuelas\n",
    "de Kenia (Duflo, Dupas y Kremer, 2011), que evaluó el efecto de dividir a los estudiantes en clases\n",
    "según su nivel de rendimiento inicial (“tracking”).\n",
    "### Objetivo\n",
    "Replicar la estimación del efecto promedio del tracking sobre el rendimiento escolar con inferencia\n",
    "adecuada para datos agrupados.\n",
    "### Base de datos\n",
    "Utilice el archivo DDK2011.dta. La variable dependiente es el puntaje estandarizado TestScore, y\n",
    "la variable de tratamiento es Tracking, que indica si la escuela aplicó tracking."
   ]
  },
  {
   "cell_type": "code",
   "execution_count": 27,
   "id": "c6dbb305",
   "metadata": {},
   "outputs": [],
   "source": [
    "url=r\"C:\\Users\\Camil\\Documents\\GitHub\\ECOP2037_CE\\hmw2\\DDK2011.dta\"\n",
    "df = pd.read_stata(url)"
   ]
  },
  {
   "cell_type": "markdown",
   "id": "1fd55777",
   "metadata": {},
   "source": [
    "## Parte I: Estimación básica\n",
    "1. Estime el siguiente modelo por Mínimos Cuadrados Ordinarios (OLS):\n",
    "$$\n",
    "\\text{TestScore}_{ig} = \\alpha + \\gamma \\text{Tracking}_g + e_{ig}\n",
    "$$"
   ]
  },
  {
   "cell_type": "markdown",
   "id": "50e35d77",
   "metadata": {},
   "source": [
    "2. Reporte el valor de $\\hat{\\gamma}$ y su error estándar usando:\n",
    "(a) Errores estándar convencionales (homocedásticos)."
   ]
  },
  {
   "cell_type": "code",
   "execution_count": 28,
   "id": "3561b685",
   "metadata": {},
   "outputs": [
    {
     "name": "stdout",
     "output_type": "stream",
     "text": [
      "Gamma estimado= 1.2581967566352972\n",
      "Error estandar estimado= 0.2389277353144617\n"
     ]
    },
    {
     "name": "stderr",
     "output_type": "stream",
     "text": [
      "C:\\Users\\Camil\\AppData\\Local\\Temp\\ipykernel_3004\\3137233708.py:5: FutureWarning: Series.__getitem__ treating keys as positions is deprecated. In a future version, integer keys will always be treated as labels (consistent with DataFrame behavior). To access a value by position, use `ser.iloc[pos]`\n",
      "  hat_gamma=model_conventional.params[1]\n",
      "C:\\Users\\Camil\\AppData\\Local\\Temp\\ipykernel_3004\\3137233708.py:6: FutureWarning: Series.__getitem__ treating keys as positions is deprecated. In a future version, integer keys will always be treated as labels (consistent with DataFrame behavior). To access a value by position, use `ser.iloc[pos]`\n",
      "  hat_se=model_conventional.bse[1]\n"
     ]
    }
   ],
   "source": [
    "y=df['totalscore']\n",
    "x=df['tracking']\n",
    "x = sm.add_constant(x)  \n",
    "model_conventional = sm.OLS(y, x).fit()\n",
    "hat_gamma=model_conventional.params[1]\n",
    "hat_se=model_conventional.bse[1]\n",
    "print(f'Gamma estimado=', hat_gamma)\n",
    "print(f'Error estandar estimado=', hat_se)"
   ]
  },
  {
   "cell_type": "markdown",
   "id": "30be319b",
   "metadata": {},
   "source": [
    "(b) Errores estándar robustos agrupados por escuela."
   ]
  },
  {
   "cell_type": "code",
   "execution_count": 29,
   "id": "70c96722",
   "metadata": {},
   "outputs": [
    {
     "name": "stdout",
     "output_type": "stream",
     "text": [
      "Gamma estimado= 1.2581967566352972\n",
      "Error estandar estimado= 0.7037256469657598\n"
     ]
    },
    {
     "name": "stderr",
     "output_type": "stream",
     "text": [
      "C:\\Users\\Camil\\AppData\\Local\\Temp\\ipykernel_3004\\812076604.py:2: FutureWarning: Series.__getitem__ treating keys as positions is deprecated. In a future version, integer keys will always be treated as labels (consistent with DataFrame behavior). To access a value by position, use `ser.iloc[pos]`\n",
      "  hat_gamma1=model_clustered.params[1]\n",
      "C:\\Users\\Camil\\AppData\\Local\\Temp\\ipykernel_3004\\812076604.py:3: FutureWarning: Series.__getitem__ treating keys as positions is deprecated. In a future version, integer keys will always be treated as labels (consistent with DataFrame behavior). To access a value by position, use `ser.iloc[pos]`\n",
      "  hat_se1=model_clustered.bse[1]\n"
     ]
    }
   ],
   "source": [
    "model_clustered = sm.OLS(y, x).fit( cov_type='cluster', cov_kwds={'groups': df['schoolid']})\n",
    "hat_gamma1=model_clustered.params[1]\n",
    "hat_se1=model_clustered.bse[1]\n",
    "print(f'Gamma estimado=', hat_gamma1)\n",
    "print(f'Error estandar estimado=', hat_se1)"
   ]
  },
  {
   "cell_type": "markdown",
   "id": "a3000ecd",
   "metadata": {},
   "source": [
    "3. Comente las diferencias. ¿Qué implicancias tiene para la significancia estadística del efecto estimado?"
   ]
  },
  {
   "cell_type": "markdown",
   "id": "29214756",
   "metadata": {},
   "source": [
    "El error estándar convencional es 0.24, mientras que el error estándar clustered por escuela es 0.70. Esto muestra que al no tener en cuenta la agrupación por escuela,es decir, que los estudiantes de una misma escuela pueden estar correlacionados, el error estándar se subestima. Como resultado, el efecto de Tracking parece ser estadísticamente significativo con errores convencionales, pero pierde significancia cuando se usan errores agrupados. "
   ]
  },
  {
   "cell_type": "markdown",
   "id": "be731027",
   "metadata": {},
   "source": [
    "## Parte II: Desafíos adicionales\n",
    "### Challenge 1: Robustez con controles individuales\n",
    "Agregue las siguientes variables de control al modelo anterior:\n",
    "- Edad del estudiante.\n",
    "- Género.\n",
    "- Puntaje inicial.\n"
   ]
  },
  {
   "cell_type": "markdown",
   "id": "ef5f3053",
   "metadata": {},
   "source": [
    "¿Cambia la magnitud o significancia de $\\hat{\\gamma}$? ¿Por qué?"
   ]
  },
  {
   "cell_type": "code",
   "execution_count": null,
   "id": "8877cfe2",
   "metadata": {},
   "outputs": [
    {
     "name": "stdout",
     "output_type": "stream",
     "text": [
      "                            OLS Regression Results                            \n",
      "==============================================================================\n",
      "Dep. Variable:             totalscore   R-squared:                       0.009\n",
      "Model:                            OLS   Adj. R-squared:                  0.009\n",
      "Method:                 Least Squares   F-statistic:                     17.72\n",
      "Date:                Wed, 11 Jun 2025   Prob (F-statistic):           1.91e-11\n",
      "Time:                        22:38:50   Log-Likelihood:                -20873.\n",
      "No. Observations:                5760   AIC:                         4.175e+04\n",
      "Df Residuals:                    5756   BIC:                         4.178e+04\n",
      "Df Model:                           3                                         \n",
      "Covariance Type:            nonrobust                                         \n",
      "==============================================================================\n",
      "                 coef    std err          t      P>|t|      [0.025      0.975]\n",
      "------------------------------------------------------------------------------\n",
      "Intercept      9.7389      0.813     11.984      0.000       8.146      11.332\n",
      "tracking       1.1935      0.240      4.978      0.000       0.724       1.664\n",
      "agetest        0.2183      0.083      2.617      0.009       0.055       0.382\n",
      "girl           1.1179      0.241      4.629      0.000       0.645       1.591\n",
      "==============================================================================\n",
      "Omnibus:                      407.685   Durbin-Watson:                   1.411\n",
      "Prob(Omnibus):                  0.000   Jarque-Bera (JB):              489.956\n",
      "Skew:                           0.706   Prob(JB):                    4.05e-107\n",
      "Kurtosis:                       2.775   Cond. No.                         65.3\n",
      "==============================================================================\n",
      "\n",
      "Notes:\n",
      "[1] Standard Errors assume that the covariance matrix of the errors is correctly specified.\n"
     ]
    },
    {
     "name": "stderr",
     "output_type": "stream",
     "text": [
      "C:\\Users\\Camil\\AppData\\Local\\Temp\\ipykernel_3004\\2737613133.py:3: FutureWarning: Series.__getitem__ treating keys as positions is deprecated. In a future version, integer keys will always be treated as labels (consistent with DataFrame behavior). To access a value by position, use `ser.iloc[pos]`\n",
      "  hat_gamma2=model_clustered2.params[1]\n",
      "C:\\Users\\Camil\\AppData\\Local\\Temp\\ipykernel_3004\\2737613133.py:4: FutureWarning: Series.__getitem__ treating keys as positions is deprecated. In a future version, integer keys will always be treated as labels (consistent with DataFrame behavior). To access a value by position, use `ser.iloc[pos]`\n",
      "  hat_se2=model_clustered2.bse[1]\n"
     ]
    }
   ],
   "source": [
    "##FALTA AGREGAR PUNTAJE INICIAL \n",
    "model_clustered2 = smf.ols('totalscore ~ tracking + agetest + girl ', data=df).fit()\n",
    "hat_gamma2=model_clustered2.params[1]\n",
    "hat_se2=model_clustered2.bse[1]\n",
    "print(model_clustered2.summary())"
   ]
  },
  {
   "cell_type": "markdown",
   "id": "cbc15b6d",
   "metadata": {},
   "source": []
  },
  {
   "cell_type": "markdown",
   "id": "f184e98c",
   "metadata": {},
   "source": [
    "## Challenge 2: Heterogeneidad del efecto del tracking\n",
    "Cree una variable BottomHalf que sea 1 si el estudiante estaba en la mitad inferior del puntaje\n",
    "inicial en su escuela. Estime:\n",
    "$$\n",
    "\\text{TestScore}_{ig} = \\alpha + \\gamma_1  \\text{Tracking}_g + \\gamma_2 \\text{BottomHalf}_ig + \\gamma_3 \\text{Tracking}_g * \\text{BottomHalf}_ig + e_{ig}\n",
    "$$\n"
   ]
  },
  {
   "cell_type": "markdown",
   "id": "f21dd374",
   "metadata": {},
   "source": [
    "Interprete el coeficiente $\\hat{\\gamma_3}$\n",
    "¿Es diferente el efecto del tracking para estudiantes de menor rendimiento\n",
    "inicial?"
   ]
  },
  {
   "cell_type": "code",
   "execution_count": 31,
   "id": "f534b454",
   "metadata": {},
   "outputs": [
    {
     "name": "stdout",
     "output_type": "stream",
     "text": [
      "                            OLS Regression Results                            \n",
      "==============================================================================\n",
      "Dep. Variable:             totalscore   R-squared:                       0.160\n",
      "Model:                            OLS   Adj. R-squared:                  0.159\n",
      "Method:                 Least Squares   F-statistic:                     335.9\n",
      "Date:                Wed, 11 Jun 2025   Prob (F-statistic):          1.13e-199\n",
      "Time:                        22:38:51   Log-Likelihood:                -18751.\n",
      "No. Observations:                5304   AIC:                         3.751e+04\n",
      "Df Residuals:                    5300   BIC:                         3.754e+04\n",
      "Df Model:                           3                                         \n",
      "Covariance Type:            nonrobust                                         \n",
      "=======================================================================================\n",
      "                          coef    std err          t      P>|t|      [0.025      0.975]\n",
      "---------------------------------------------------------------------------------------\n",
      "Intercept              15.4869      0.238     64.982      0.000      15.020      15.954\n",
      "tracking                1.6274      0.320      5.079      0.000       0.999       2.256\n",
      "bottomhalf             -6.9285      0.345    -20.092      0.000      -7.605      -6.252\n",
      "tracking_bottomhalf    -0.3362      0.460     -0.731      0.465      -1.238       0.565\n",
      "==============================================================================\n",
      "Omnibus:                      326.376   Durbin-Watson:                   1.498\n",
      "Prob(Omnibus):                  0.000   Jarque-Bera (JB):              389.331\n",
      "Skew:                           0.663   Prob(JB):                     2.87e-85\n",
      "Kurtosis:                       2.935   Cond. No.                         7.22\n",
      "==============================================================================\n",
      "\n",
      "Notes:\n",
      "[1] Standard Errors assume that the covariance matrix of the errors is correctly specified.\n"
     ]
    },
    {
     "name": "stderr",
     "output_type": "stream",
     "text": [
      "C:\\Users\\Camil\\AppData\\Local\\Temp\\ipykernel_3004\\2807184409.py:4: FutureWarning: Series.__getitem__ treating keys as positions is deprecated. In a future version, integer keys will always be treated as labels (consistent with DataFrame behavior). To access a value by position, use `ser.iloc[pos]`\n",
      "  hat_gamma3=model_clustered3.params[1]\n",
      "C:\\Users\\Camil\\AppData\\Local\\Temp\\ipykernel_3004\\2807184409.py:5: FutureWarning: Series.__getitem__ treating keys as positions is deprecated. In a future version, integer keys will always be treated as labels (consistent with DataFrame behavior). To access a value by position, use `ser.iloc[pos]`\n",
      "  hat_se3=model_clustered3.bse[1]\n"
     ]
    }
   ],
   "source": [
    "## crear variable bottomhalf\n",
    "tracking_bottomhalf=df['tracking']*df['bottomhalf']\n",
    "model_clustered3 = smf.ols('totalscore ~ tracking + bottomhalf + tracking_bottomhalf', data=df).fit()\n",
    "hat_gamma3=model_clustered3.params[1]\n",
    "hat_se3=model_clustered3.bse[1]\n",
    "print(model_clustered3.summary())"
   ]
  },
  {
   "cell_type": "markdown",
   "id": "d84e26c9",
   "metadata": {},
   "source": []
  },
  {
   "cell_type": "markdown",
   "id": "980135f8",
   "metadata": {},
   "source": [
    "## Challenge 3: Inferencia errónea por no agrupar\n",
    "Compare los errores estándar de $\\hat{\\gamma}$ usando:\n",
    "- Errores convencionales.\n",
    "- Errores robustos de White (HC0)\n",
    "- Errores robustos agrupados por escuela.\n"
   ]
  },
  {
   "cell_type": "markdown",
   "id": "95040fc8",
   "metadata": {},
   "source": [
    "¿En cuál caso cambia la significancia estadística del efecto de tracking?"
   ]
  }
 ],
 "metadata": {
  "kernelspec": {
   "display_name": "Python 3",
   "language": "python",
   "name": "python3"
  },
  "language_info": {
   "codemirror_mode": {
    "name": "ipython",
    "version": 3
   },
   "file_extension": ".py",
   "mimetype": "text/x-python",
   "name": "python",
   "nbconvert_exporter": "python",
   "pygments_lexer": "ipython3",
   "version": "3.12.6"
  }
 },
 "nbformat": 4,
 "nbformat_minor": 5
}

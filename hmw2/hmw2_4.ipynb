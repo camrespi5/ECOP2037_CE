{
 "cells": [
  {
   "cell_type": "code",
   "execution_count": 18,
   "id": "9172c49a",
   "metadata": {},
   "outputs": [],
   "source": [
    "import pandas as pd\n",
    "import numpy as np\n",
    "import statsmodels.formula.api as smf\n",
    "import statsmodels.api as sm"
   ]
  },
  {
   "cell_type": "markdown",
   "id": "733032fe",
   "metadata": {},
   "source": [
    "# Efecto del Tracking Escolar y Inferencia con Muestras Agrupadas"
   ]
  },
  {
   "cell_type": "markdown",
   "id": "1f41f09c",
   "metadata": {},
   "source": [
    "En contextos donde las unidades de observación están naturalmente agrupadas (como estudiantes\n",
    "dentro de escuelas), la independencia entre observaciones puede no cumplirse. Esto afecta la inferencia\n",
    "estadística, ya que los errores estándar convencionales pueden subestimar la varianza real\n",
    "del estimador. En este ejercicio trabajaremos con datos de un experimento aleatorizado en escuelas\n",
    "de Kenia (Duflo, Dupas y Kremer, 2011), que evaluó el efecto de dividir a los estudiantes en clases\n",
    "según su nivel de rendimiento inicial (“tracking”).\n",
    "### Objetivo\n",
    "Replicar la estimación del efecto promedio del tracking sobre el rendimiento escolar con inferencia\n",
    "adecuada para datos agrupados.\n",
    "### Base de datos\n",
    "Utilice el archivo DDK2011.dta. La variable dependiente es el puntaje estandarizado TestScore, y\n",
    "la variable de tratamiento es Tracking, que indica si la escuela aplicó tracking."
   ]
  },
  {
   "cell_type": "code",
   "execution_count": 19,
   "id": "c6dbb305",
   "metadata": {},
   "outputs": [],
   "source": [
    "url=r\"C:\\Users\\Camil\\Documents\\GitHub\\ECOP2037_CE\\hmw2\\DDK2011.dta\"\n",
    "df = pd.read_stata(url)"
   ]
  },
  {
   "cell_type": "markdown",
   "id": "1fd55777",
   "metadata": {},
   "source": [
    "## Parte I: Estimación básica\n",
    "1. Estime el siguiente modelo por Mínimos Cuadrados Ordinarios (OLS):\n",
    "$$\n",
    "\\text{TestScore}_{ig} = \\alpha + \\gamma \\text{Tracking}_g + e_{ig}\n",
    "$$"
   ]
  },
  {
   "cell_type": "markdown",
   "id": "50e35d77",
   "metadata": {},
   "source": [
    "2. Reporte el valor de $\\hat{\\gamma}$ y su error estándar usando:\n",
    "(a) Errores estándar convencionales (homocedásticos)."
   ]
  },
  {
   "cell_type": "code",
   "execution_count": 20,
   "id": "3561b685",
   "metadata": {},
   "outputs": [
    {
     "name": "stdout",
     "output_type": "stream",
     "text": [
      "Gamma estimado= 0.1380912454439964\n",
      "Error estandar estimado= 0.026223107003901035\n"
     ]
    },
    {
     "name": "stderr",
     "output_type": "stream",
     "text": [
      "C:\\Users\\Camil\\AppData\\Local\\Temp\\ipykernel_27416\\2928203277.py:16: FutureWarning: Series.__getitem__ treating keys as positions is deprecated. In a future version, integer keys will always be treated as labels (consistent with DataFrame behavior). To access a value by position, use `ser.iloc[pos]`\n",
      "  hat_gamma=model_conventional.params[1]\n",
      "C:\\Users\\Camil\\AppData\\Local\\Temp\\ipykernel_27416\\2928203277.py:17: FutureWarning: Series.__getitem__ treating keys as positions is deprecated. In a future version, integer keys will always be treated as labels (consistent with DataFrame behavior). To access a value by position, use `ser.iloc[pos]`\n",
      "  hat_se=model_conventional.bse[1]\n"
     ]
    }
   ],
   "source": [
    "mean = df['totalscore'].mean()\n",
    "std = df['totalscore'].std()\n",
    "\n",
    "df['TestScore'] = (df['totalscore'] - mean) / std\n",
    "\n",
    "##reenombre las columnas porque ya habia hecho todo el codigo con totalscore\n",
    "df = df.rename(columns={\n",
    "    'totalscore': 'totalscore_sinestandarizar',\n",
    "    'TestScore': 'totalscore'\n",
    "})\n",
    "\n",
    "y=df['totalscore']\n",
    "x=df['tracking']\n",
    "x = sm.add_constant(x)  \n",
    "model_conventional = sm.OLS(y, x).fit()\n",
    "hat_gamma=model_conventional.params[1]\n",
    "hat_se=model_conventional.bse[1]\n",
    "print(f'Gamma estimado=', hat_gamma)\n",
    "print(f'Error estandar estimado=', hat_se)"
   ]
  },
  {
   "cell_type": "markdown",
   "id": "30be319b",
   "metadata": {},
   "source": [
    "(b) Errores estándar robustos agrupados por escuela."
   ]
  },
  {
   "cell_type": "code",
   "execution_count": 21,
   "id": "70c96722",
   "metadata": {},
   "outputs": [
    {
     "name": "stdout",
     "output_type": "stream",
     "text": [
      "Gamma estimado= 0.1380912454439964\n",
      "Error estandar estimado= 0.07723621074627246\n"
     ]
    },
    {
     "name": "stderr",
     "output_type": "stream",
     "text": [
      "C:\\Users\\Camil\\AppData\\Local\\Temp\\ipykernel_27416\\812076604.py:2: FutureWarning: Series.__getitem__ treating keys as positions is deprecated. In a future version, integer keys will always be treated as labels (consistent with DataFrame behavior). To access a value by position, use `ser.iloc[pos]`\n",
      "  hat_gamma1=model_clustered.params[1]\n",
      "C:\\Users\\Camil\\AppData\\Local\\Temp\\ipykernel_27416\\812076604.py:3: FutureWarning: Series.__getitem__ treating keys as positions is deprecated. In a future version, integer keys will always be treated as labels (consistent with DataFrame behavior). To access a value by position, use `ser.iloc[pos]`\n",
      "  hat_se1=model_clustered.bse[1]\n"
     ]
    }
   ],
   "source": [
    "model_clustered = sm.OLS(y, x).fit( cov_type='cluster', cov_kwds={'groups': df['schoolid']})\n",
    "hat_gamma1=model_clustered.params[1]\n",
    "hat_se1=model_clustered.bse[1]\n",
    "print(f'Gamma estimado=', hat_gamma1)\n",
    "print(f'Error estandar estimado=', hat_se1)"
   ]
  },
  {
   "cell_type": "markdown",
   "id": "a3000ecd",
   "metadata": {},
   "source": [
    "3. Comente las diferencias. ¿Qué implicancias tiene para la significancia estadística del efecto estimado?"
   ]
  },
  {
   "cell_type": "markdown",
   "id": "29214756",
   "metadata": {},
   "source": [
    "El error estándar convencional es 0.026, mientras que el error estándar clustered por escuela es 0.077. Esto muestra que al no tener en cuenta la agrupación por escuela,es decir, que los estudiantes de una misma escuela pueden estar correlacionados, el error estándar se subestima. Como resultado, el efecto de Tracking parece ser estadísticamente significativo con errores convencionales, pero pierde significancia cuando se usan errores agrupados. "
   ]
  },
  {
   "cell_type": "markdown",
   "id": "be731027",
   "metadata": {},
   "source": [
    "## Parte II: Desafíos adicionales\n",
    "### Challenge 1: Robustez con controles individuales\n",
    "Agregue las siguientes variables de control al modelo anterior:\n",
    "- Edad del estudiante.\n",
    "- Género.\n"
   ]
  },
  {
   "cell_type": "markdown",
   "id": "ef5f3053",
   "metadata": {},
   "source": [
    "¿Cambia la magnitud o significancia de $\\hat{\\gamma}$? ¿Por qué?"
   ]
  },
  {
   "cell_type": "code",
   "execution_count": 22,
   "id": "8877cfe2",
   "metadata": {},
   "outputs": [
    {
     "name": "stdout",
     "output_type": "stream",
     "text": [
      "El estimador 𝛾 es : 0.13099384749390924\n"
     ]
    },
    {
     "name": "stderr",
     "output_type": "stream",
     "text": [
      "C:\\Users\\Camil\\AppData\\Local\\Temp\\ipykernel_27416\\774030415.py:2: FutureWarning: Series.__getitem__ treating keys as positions is deprecated. In a future version, integer keys will always be treated as labels (consistent with DataFrame behavior). To access a value by position, use `ser.iloc[pos]`\n",
      "  hat_gamma2=model_clustered2.params[1]\n",
      "C:\\Users\\Camil\\AppData\\Local\\Temp\\ipykernel_27416\\774030415.py:3: FutureWarning: Series.__getitem__ treating keys as positions is deprecated. In a future version, integer keys will always be treated as labels (consistent with DataFrame behavior). To access a value by position, use `ser.iloc[pos]`\n",
      "  hat_se2=model_clustered2.bse[1]\n"
     ]
    }
   ],
   "source": [
    "model_clustered2 = smf.ols('totalscore ~ tracking + agetest + girl ', data=df).fit()\n",
    "hat_gamma2=model_clustered2.params[1]\n",
    "hat_se2=model_clustered2.bse[1]\n",
    "print('El estimador 𝛾 es :',hat_gamma2)"
   ]
  },
  {
   "cell_type": "markdown",
   "id": "cbc15b6d",
   "metadata": {},
   "source": [
    "El estimador no cambia mucho. Al estandarizar la variable dependiente, el coeficiente estimado de tracking se interpreta como el cambio en desviaciones estándar del puntaje, lo que fija su escala y reduce la sensibilidad a cambios menores en la varianza explicada. Por eso, al incluir controles como edad o género, la magnitud del coeficiente apenas varía, ya que estos controles explican poca varianza adicional relativa."
   ]
  },
  {
   "cell_type": "markdown",
   "id": "f184e98c",
   "metadata": {},
   "source": [
    "## Challenge 2: Heterogeneidad del efecto del tracking\n",
    "Cree una variable BottomHalf que sea 1 si el estudiante estaba en la mitad inferior del puntaje\n",
    "inicial en su escuela. Estime:\n",
    "$$\n",
    "\\text{TestScore}_{ig} = \\alpha + \\gamma_1  \\text{Tracking}_g + \\gamma_2 \\text{BottomHalf}_ig + \\gamma_3 \\text{Tracking}_g * \\text{BottomHalf}_ig + e_{ig}\n",
    "$$\n"
   ]
  },
  {
   "cell_type": "markdown",
   "id": "f21dd374",
   "metadata": {},
   "source": [
    "Interprete el coeficiente $\\hat{\\gamma_3}$\n",
    "¿Es diferente el efecto del tracking para estudiantes de menor rendimiento\n",
    "inicial?"
   ]
  },
  {
   "cell_type": "code",
   "execution_count": 23,
   "id": "f534b454",
   "metadata": {},
   "outputs": [
    {
     "name": "stdout",
     "output_type": "stream",
     "text": [
      "El estimador 𝛾_3 es: -0.03689582597096323\n"
     ]
    },
    {
     "name": "stderr",
     "output_type": "stream",
     "text": [
      "C:\\Users\\Camil\\AppData\\Local\\Temp\\ipykernel_27416\\4250876937.py:4: FutureWarning: Series.__getitem__ treating keys as positions is deprecated. In a future version, integer keys will always be treated as labels (consistent with DataFrame behavior). To access a value by position, use `ser.iloc[pos]`\n",
      "  hat_gamma3=model_clustered3.params[3]\n",
      "C:\\Users\\Camil\\AppData\\Local\\Temp\\ipykernel_27416\\4250876937.py:5: FutureWarning: Series.__getitem__ treating keys as positions is deprecated. In a future version, integer keys will always be treated as labels (consistent with DataFrame behavior). To access a value by position, use `ser.iloc[pos]`\n",
      "  hat_se3=model_clustered3.bse[1]\n"
     ]
    }
   ],
   "source": [
    "## crear variable bottomhalf\n",
    "df['tracking_bottomhalf']=df['tracking']*df['bottomhalf']\n",
    "model_clustered3 = smf.ols('totalscore ~ tracking + bottomhalf + tracking_bottomhalf', data=df).fit()\n",
    "hat_gamma3=model_clustered3.params[3]\n",
    "hat_se3=model_clustered3.bse[1]\n",
    "print(\"El estimador 𝛾_3 es:\",hat_gamma3)"
   ]
  },
  {
   "cell_type": "markdown",
   "id": "d84e26c9",
   "metadata": {},
   "source": [
    "$𝛾_3$ que es la interacción entre tracking y bottomhalf es aproximadamente -0.037, lo que indica que el efecto de tracking sobre el puntaje total estandarizado (totalscore) es ligeramente menor para los estudiantes en la mitad inferior en comparación con los demás. En términos prácticos, esto significa que por cada unidad que aumenta tracking, el puntaje total de los estudiantes en bottomhalf=1 disminuye en unas 0.037 desviaciones estándar adicionales respecto al efecto en los estudiantes fuera de ese grupo."
   ]
  },
  {
   "cell_type": "markdown",
   "id": "980135f8",
   "metadata": {},
   "source": [
    "## Challenge 3: Inferencia errónea por no agrupar\n",
    "Compare los errores estándar de $\\hat{\\gamma}$ usando:\n",
    "- Errores convencionales.\n",
    "- Errores robustos de White (HC0)\n",
    "- Errores robustos agrupados por escuela.\n"
   ]
  },
  {
   "cell_type": "markdown",
   "id": "95040fc8",
   "metadata": {},
   "source": [
    "¿En cuál caso cambia la significancia estadística del efecto de tracking?"
   ]
  },
  {
   "cell_type": "code",
   "execution_count": 24,
   "id": "42978556",
   "metadata": {},
   "outputs": [
    {
     "name": "stdout",
     "output_type": "stream",
     "text": [
      "El error convencionales es: 0.0351682585932998\n",
      "El error robusto de white es: 0.037764409897198745\n",
      "El error robusto agrupado es: 0.09367285596185726\n"
     ]
    },
    {
     "name": "stderr",
     "output_type": "stream",
     "text": [
      "C:\\Users\\Camil\\AppData\\Local\\Temp\\ipykernel_27416\\3396091151.py:5: FutureWarning: Series.__getitem__ treating keys as positions is deprecated. In a future version, integer keys will always be treated as labels (consistent with DataFrame behavior). To access a value by position, use `ser.iloc[pos]`\n",
      "  hat_se4=model_white.bse[1]\n",
      "C:\\Users\\Camil\\AppData\\Local\\Temp\\ipykernel_27416\\3396091151.py:16: FutureWarning: Series.__getitem__ treating keys as positions is deprecated. In a future version, integer keys will always be treated as labels (consistent with DataFrame behavior). To access a value by position, use `ser.iloc[pos]`\n",
      "  hat_se5=model_clustered.bse[1]\n"
     ]
    }
   ],
   "source": [
    "print(\"El error convencionales es:\",hat_se3)\n",
    "\n",
    "##errores robustos de white\n",
    "model_white = smf.ols('totalscore ~ tracking + bottomhalf + tracking_bottomhalf', data=df).fit(cov_type='HC0')\n",
    "hat_se4=model_white.bse[1]\n",
    "print(\"El error robusto de white es:\",hat_se4)\n",
    "\n",
    "##errores clusteres\n",
    "# debemos eliminar na porque sino sale error \n",
    "vars_needed = ['totalscore', 'tracking', 'bottomhalf', 'schoolid']\n",
    "df_reg = df[vars_needed].dropna().copy()\n",
    "df_reg['tracking_bottomhalf'] = df_reg['tracking'] * df_reg['bottomhalf']\n",
    "\n",
    "\n",
    "model_clustered = smf.ols('totalscore ~ tracking + bottomhalf + tracking_bottomhalf', data=df_reg).fit( cov_type='cluster', cov_kwds={'groups': df_reg['schoolid']})\n",
    "hat_se5=model_clustered.bse[1]\n",
    "print(\"El error robusto agrupado es:\",hat_se5)\n"
   ]
  },
  {
   "cell_type": "markdown",
   "id": "222abaae",
   "metadata": {},
   "source": [
    "Como podemos observar, los valores de los errores estandar son muy similares para los valores que utilizan errores estandar convencionales y HCO. Viendo estos errores, podriamos decir que el efecto de Tracking en totalscore es significativo. Sin embargo, al estimar el mismo modelo usando errores estandar clustered al nivel de escuela observamos que este efecto de hecho no es significativo. Esto demuestra que no usar errores estandar clustered, nos puede llevar a falsos positivos."
   ]
  }
 ],
 "metadata": {
  "kernelspec": {
   "display_name": "Python 3",
   "language": "python",
   "name": "python3"
  },
  "language_info": {
   "codemirror_mode": {
    "name": "ipython",
    "version": 3
   },
   "file_extension": ".py",
   "mimetype": "text/x-python",
   "name": "python",
   "nbconvert_exporter": "python",
   "pygments_lexer": "ipython3",
   "version": "3.12.6"
  }
 },
 "nbformat": 4,
 "nbformat_minor": 5
}

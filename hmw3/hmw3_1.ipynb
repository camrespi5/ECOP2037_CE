{
 "cells": [
  {
   "cell_type": "markdown",
   "id": "bfeb36a3",
   "metadata": {},
   "source": [
    "# Método Delta"
   ]
  },
  {
   "cell_type": "markdown",
   "id": "10d66872",
   "metadata": {},
   "source": [
    "Tome el modelo\n",
    "$$ Y= X_1 \\beta_1 + X_2 \\beta_2 + e_i$$\n",
    "$$ E[X_i e_i]=0 $$\n",
    "con $ \\beta_1 \\in \\mathbb{R} $ y $ \\beta_2 \\in \\mathbb{R} $, y defina el parámetro $ \\theta = \\beta_1 \\beta_2 $\n"
   ]
  },
  {
   "cell_type": "markdown",
   "id": "37678bfa",
   "metadata": {},
   "source": [
    "(a) Cual es el estimador apropiado $\\hat{\\theta}$ para $\\theta$?"
   ]
  },
  {
   "cell_type": "markdown",
   "id": "5fc5cb9f",
   "metadata": {},
   "source": [
    "El estimador será $ \\hat{\\theta}= \\hat{\\beta_1} \\hat{\\beta_2} $, donde $\\hat{\\beta_1}$ y $\\hat{\\beta_2}$ son los estimadores de MCO.\n",
    "En notacion marticial el modelo seria $Y=X \\beta + e $ donde $\\beta = \\begin{bmatrix} \\beta_1 \\\\ \\beta_2 \\end{bmatrix}$ y $ X= \\begin{bmatrix} X_1 \\\\ X_2 \\end{bmatrix} $ entonces: \n",
    "$$ \\hat{\\beta}= (X'X)^{-1} X'Y =\\begin{bmatrix} \\hat{\\beta_1} \\\\ \\hat{\\beta_2} \\end{bmatrix} $$\n"
   ]
  },
  {
   "cell_type": "markdown",
   "id": "59498a40",
   "metadata": {},
   "source": [
    "(b) Encuentra la distribucion asintotica de $\\hat{\\theta}$ bajo condiciones de regularidad estandar."
   ]
  },
  {
   "cell_type": "markdown",
   "id": "bf813ff9",
   "metadata": {},
   "source": [
    "$$\n",
    "\\text{Sea } \\hat{\\beta} = (\\hat{\\beta}_1, \\hat{\\beta}_2)' \\text{ tal que:} \\\\\n",
    "\\sqrt{n}(\\hat{\\beta} - \\beta) \\xrightarrow{d} \\mathcal{N}(0, V) \\\\\n",
    "\\text{con } \\beta = (\\beta_1, \\beta_2)', \\text{ y } V \\text{ la matriz de varianza-covarianza asintótica de } \\hat{\\beta}. \\\\\n",
    "\n",
    "\\text{Definamos } g(\\beta_1, \\beta_2) = \\beta_1 \\beta_2 \\Rightarrow \\theta = g(\\beta) \\\\\n",
    "\n",
    "\\text{Gradiente de } g: \\quad \\nabla g(\\beta) = \\begin{bmatrix} \\beta_2 \\\\ \\beta_1 \\end{bmatrix} \\\\\n",
    "\n",
    "\\text{Entonces, por el Método Delta:} \\\\\n",
    "\\sqrt{n}(\\hat{\\theta} - \\theta) \\xrightarrow{d} \\mathcal{N}(0, \\nabla g(\\beta)' V \\nabla g(\\beta)) \\\\\n",
    "\n",
    "\\text{Si } V = \n",
    "\\begin{bmatrix}\n",
    "\\text{Var}(\\hat{\\beta}_1) & \\text{Cov}(\\hat{\\beta}_1, \\hat{\\beta}_2) \\\\\n",
    "\\text{Cov}(\\hat{\\beta}_1, \\hat{\\beta}_2) & \\text{Var}(\\hat{\\beta}_2)\n",
    "\\end{bmatrix}, \\text{ entonces:} \\\\\n",
    "\n",
    "\\nabla g(\\beta)' V \\nabla g(\\beta) =\n",
    "\\beta_2^2 \\cdot \\text{Var}(\\hat{\\beta}_1)\n",
    "+ \\beta_1^2 \\cdot \\text{Var}(\\hat{\\beta}_2)\n",
    "+ 2 \\beta_1 \\beta_2 \\cdot \\text{Cov}(\\hat{\\beta}_1, \\hat{\\beta}_2) \\\\\n",
    "\n",
    "\\Rightarrow \\sqrt{n}(\\hat{\\theta} - \\theta) \\xrightarrow{d}\n",
    "\\mathcal{N} \\left( 0,\n",
    "\\beta_2^2 \\cdot \\text{Var}(\\hat{\\beta}_1)\n",
    "+ \\beta_1^2 \\cdot \\text{Var}(\\hat{\\beta}_2)\n",
    "+ 2 \\beta_1 \\beta_2 \\cdot \\text{Cov}(\\hat{\\beta}_1, \\hat{\\beta}_2)\n",
    "\\right)\n",
    "$$\n"
   ]
  },
  {
   "cell_type": "markdown",
   "id": "90c8a355",
   "metadata": {},
   "source": [
    "(c) Muestre cómo calcular un intervalo de confianza asintótico del 95 %"
   ]
  },
  {
   "cell_type": "markdown",
   "id": "95ec8864",
   "metadata": {},
   "source": []
  }
 ],
 "metadata": {
  "kernelspec": {
   "display_name": "Python 3",
   "language": "python",
   "name": "python3"
  },
  "language_info": {
   "codemirror_mode": {
    "name": "ipython",
    "version": 3
   },
   "file_extension": ".py",
   "mimetype": "text/x-python",
   "name": "python",
   "nbconvert_exporter": "python",
   "pygments_lexer": "ipython3",
   "version": "3.12.6"
  }
 },
 "nbformat": 4,
 "nbformat_minor": 5
}

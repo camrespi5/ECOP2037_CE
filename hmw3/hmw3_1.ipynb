{
 "cells": [
  {
   "cell_type": "markdown",
   "id": "bfeb36a3",
   "metadata": {},
   "source": [
    "# Método Delta"
   ]
  },
  {
   "cell_type": "markdown",
   "id": "10d66872",
   "metadata": {},
   "source": [
    "Tome el modelo\n",
    "$$ Y= X_1 \\beta_1 + X_2 \\beta_2 + e_i$$\n",
    "$$ E[X_i e_i]=0 $$\n",
    "con $ \\beta_1 \\in \\mathbb{R} $ y $ \\beta_2 \\in \\mathbb{R} $, y defina el parámetro $ \\theta = \\beta_1 \\beta_2 $\n"
   ]
  },
  {
   "cell_type": "markdown",
   "id": "37678bfa",
   "metadata": {},
   "source": [
    "(a) Cual es el estimador apropiado $\\hat{\\theta}$ para $\\theta$?"
   ]
  },
  {
   "cell_type": "markdown",
   "id": "5fc5cb9f",
   "metadata": {},
   "source": [
    "El estimador será $ \\hat{\\theta}= \\hat{\\beta_1} \\hat{\\beta_2} $, donde $\\hat{\\beta_1}$ y $\\hat{\\beta_2}$ son los estimadores de MCO.\n",
    "En notacion marticial el modelo seria $Y=X \\beta + e $ donde $\\beta = \\begin{bmatrix} \\beta_1 \\\\ \\beta_2 \\end{bmatrix}$ y $ X= \\begin{bmatrix} X_1 \\\\ X_2 \\end{bmatrix} $ entonces: \n",
    "$$ \\hat{\\beta}= (X'X)^{-1} X'Y =\\begin{bmatrix} \\hat{\\beta_1} \\\\ \\hat{\\beta_2} \\end{bmatrix} $$\n"
   ]
  },
  {
   "cell_type": "markdown",
   "id": "59498a40",
   "metadata": {},
   "source": [
    "(b) Encuentra la distribucion asintotica de $\\hat{\\theta}$ bajo condiciones de regularidad estandar."
   ]
  },
  {
   "cell_type": "markdown",
   "id": "bf813ff9",
   "metadata": {},
   "source": [
    "$$\n",
    "\\text{Sea } \\hat{\\beta} = (\\hat{\\beta}_1, \\hat{\\beta}_2)' \\text{ tal que:} \\\\\n",
    "\\sqrt{n}(\\hat{\\beta} - \\beta) \\xrightarrow{d} \\mathcal{N}(0, V_\\beta) \\\\\n",
    "\\text{con } \\beta = (\\beta_1, \\beta_2)', \\text{ y } V_\\beta \\text{ la matriz de varianza-covarianza asintótica de } \\hat{\\beta}. \n",
    "$$\n",
    "Entonces \n",
    "$$ \\sqrt{n}(\\hat{\\theta} - \\theta) \\xrightarrow{d} \\mathcal{N}(0,  V_\\theta) \n",
    "$$\n",
    "La derivada del estimador con respecto a \n",
    "$\\beta = (\\beta_1, \\beta_2)'$ es\n",
    "\n",
    "$$\n",
    "R= (\\frac{\\partial \\theta}{\\partial \\beta_1}, \\frac{\\partial \\theta}{\\partial \\beta_2})' = (\\beta_2, \\beta_1)'\n",
    "$$\n",
    "\n",
    "Entonces \n",
    "$$ V_\\theta= R' V_\\beta R = \\beta_2 ^2 V_{11} + \\beta_1 ^2 V_{22} +  2 \\beta_1 \\beta_2 V_{12} $$\n",
    "Donde donde $V_{11}, V_{22} y V_{12} $ son elementos de la matriz de covarianza $V_\\beta$ .\n",
    "\n",
    "Finalmente entonces:\n",
    "$$\n",
    "\\hat{\\theta}\n",
    "\\xrightarrow{d}\n",
    "\\mathcal{N}(0, \\frac{1}{n}(\\beta_1^2V_{11} + 2\\beta_1 \\beta_2 V_{12} + \\beta_2^2V_{22}))\n",
    "$$\n"
   ]
  },
  {
   "cell_type": "markdown",
   "id": "90c8a355",
   "metadata": {},
   "source": [
    "(c) Muestre cómo calcular un intervalo de confianza asintótico del 95 %"
   ]
  },
  {
   "cell_type": "markdown",
   "id": "95ec8864",
   "metadata": {},
   "source": [
    "\n",
    "sabemos ya que \n",
    "$$\n",
    "\\hat{\\theta} \\sim \\mathcal{N}(\\theta, \\text{Var}(\\hat{\\theta}))\n",
    "$$\n",
    "donde $\\text{Var}(\\hat{\\theta})$ corresponde a:\n",
    "$$\n",
    "\\frac{1}{n}(\\beta_1^2V_{11} + 2\\beta_1 \\beta_2 V_{12} + \\beta_2^2V_{22})\n",
    "$$\n",
    "\n",
    "Entonces el error estándar es:\n",
    "\n",
    "$$\n",
    "\\text{SE}(\\hat{\\theta}) = \\sqrt{\\text{Var}(\\hat{\\theta})}\n",
    "$$\n",
    "\n",
    "El intervalo de confianza asintótico al 95% es:\n",
    "\n",
    "$$\n",
    "\\left[ \\hat{\\theta} - 1.96 \\cdot \\text{SE}(\\hat{\\theta}), \\; \\hat{\\theta} + 1.96 \\cdot \\text{SE}(\\hat{\\theta}) \\right]\n",
    "$$"
   ]
  }
 ],
 "metadata": {
  "kernelspec": {
   "display_name": "Python 3",
   "language": "python",
   "name": "python3"
  },
  "language_info": {
   "codemirror_mode": {
    "name": "ipython",
    "version": 3
   },
   "file_extension": ".py",
   "mimetype": "text/x-python",
   "name": "python",
   "nbconvert_exporter": "python",
   "pygments_lexer": "ipython3",
   "version": "3.12.6"
  }
 },
 "nbformat": 4,
 "nbformat_minor": 5
}

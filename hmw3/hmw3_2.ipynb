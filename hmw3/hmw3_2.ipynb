{
 "cells": [
  {
   "cell_type": "markdown",
   "id": "c9a7570d",
   "metadata": {},
   "source": [
    "#  MCO Ponderados\n"
   ]
  },
  {
   "cell_type": "markdown",
   "id": "f22aa368",
   "metadata": {},
   "source": [
    "Las variables ${Y_i, X_i, W_i}$ son una muestra aleatoria. El parámetro β se estima minimizando la\n",
    "función criterio.\n",
    "\n",
    "$$\n",
    "S(\\beta) = \\sum_{i=1}^{n} W_i (Y_i - X'_i \\beta)^2\n",
    "$$\n",
    "Es decir, $\\hat{\\beta}=argmin_\\beta S(\\beta)$"
   ]
  },
  {
   "cell_type": "markdown",
   "id": "8b6113f3",
   "metadata": {},
   "source": [
    "### (a) Encuentre una expresión explícita para $\\hat{\\beta}$"
   ]
  },
  {
   "cell_type": "markdown",
   "id": "b6cffd18",
   "metadata": {},
   "source": [
    "$$\n",
    "S(\\beta) = \\sum_{i=1}^n W_i Y_i^2  \n",
    "- 2 \\sum_{i=1}^n W_i Y_i X_i' \\beta  \n",
    "+ \\sum_{i=1}^n W_i \\beta' X_i X_i' \\beta\n",
    "$$\n",
    "\n",
    "Derivando con respecto a $\\beta$, obtenemos:\n",
    "$$\n",
    "\\frac{\\partial S}{\\partial \\beta} \n",
    "= -2 \\sum_{i=1}^n X_i' W_i Y_i \n",
    "+ 2 \\sum_{i=1}^n X_i' W_i X_i \\hat{\\beta} = 0\n",
    "$$\n",
    "\n",
    "Despejando:\n",
    "$$\n",
    "\\sum_{i=1}^n X_i' W_i X_i \\hat{\\beta} = \\sum_{i=1}^n X_i' W_i Y_i\n",
    "$$\n",
    "\n",
    "$$\n",
    "\\hat{\\beta} = \n",
    "\\left( \\sum_{i=1}^n X_i' W_i X_i \\right)^{-1} \n",
    "\\left( \\sum_{i=1}^n X_i' W_i Y_i \\right)\n",
    "$$\n"
   ]
  },
  {
   "cell_type": "markdown",
   "id": "316b4f27",
   "metadata": {},
   "source": [
    "### (b) ¿Qué parámetro poblacional $\\beta$ está estimando $\\hat{\\beta}$? (Sea explícito sobre cualquier suposición que deba imponer. Pero no haga más suposiciones de las necesarias)."
   ]
  },
  {
   "cell_type": "markdown",
   "id": "b992e26b",
   "metadata": {},
   "source": [
    "Reemplazando $Y_i= X_i' \\beta + e_i$\n",
    "Obtenemos:\n",
    "$$\n",
    "\\hat{\\beta} = \n",
    "\\left( \\sum_{i=1}^n X_i' W_i X_i \\right)^{-1} \n",
    "\\left( \\sum_{i=1}^n X_i' W_i (X_i '\\beta + e_i) \\right)\n",
    "$$\n",
    "\n",
    "$$\n",
    "\\hat{\\beta} = \n",
    "\\left( \\sum_{i=1}^n W_i X_i X_i' \\right)^{-1}\n",
    "\\left( \\sum_{i=1}^n W_i X_i X_i' \\beta_0 + \\sum_{i=1}^n W_i X_i e_i \\right)\n",
    "$$\n",
    "\n",
    "$$\n",
    "= \\left( \\sum_{i=1}^n W_i X_i X_i' \\right)^{-1}\n",
    "\\left( \\sum_{i=1}^n W_i X_i X_i' \\right) \\beta_0\n",
    "+ \\left( \\sum_{i=1}^n W_i X_i X_i' \\right)^{-1}\n",
    "\\left( \\sum_{i=1}^n W_i X_i e_i \\right)\n",
    "$$\n",
    "\n",
    "$$\n",
    "\\Rightarrow \\hat{\\beta} = \\beta_0 + \n",
    "\\left( \\sum_{i=1}^n W_i X_i X_i' \\right)^{-1}\n",
    "\\left( \\sum_{i=1}^n W_i X_i e_i \\right)\n",
    "$$\n",
    "Necesitamo que el segundo termino converja en probabilidad a cero cuando n tiende a infinito para que $\\hat{\\beta}$ sea un estimador consistente de $\\beta$. Esto se cumple bajo la suposicion de que $E[e_i | X_i , W_i]=0$.\n",
    "\n"
   ]
  },
  {
   "cell_type": "markdown",
   "id": "afb0e731",
   "metadata": {},
   "source": [
    "### (c) Encuentre el límite de probabilidad para $\\hat{\\beta}$ como n → ∞"
   ]
  },
  {
   "cell_type": "markdown",
   "id": "ed22b0b1",
   "metadata": {},
   "source": [
    "Queremos encontrar su límite en probabilidad cuando $ n \\to \\infty $. Bajo el supuesto de que $ \\{(Y_i, X_i, W_i)\\} $ es una muestra aleatoria y que los momentos necesarios existen y son finitos, aplicamos la ley de los grandes números:\n",
    "\n",
    "$$\n",
    "\\frac{1}{n} \\sum_{i=1}^n W_i X_i X_i' \\xrightarrow{p} \\mathbb{E}[W_i X_i X_i']\n",
    "$$\n",
    "\n",
    "$$\n",
    "\\frac{1}{n} \\sum_{i=1}^n W_i X_i Y_i \\xrightarrow{p} \\mathbb{E}[W_i X_i Y_i]\n",
    "$$\n",
    "\n",
    "Por lo tanto:\n",
    "\n",
    "$$\n",
    "\\hat{\\beta} = \\left( \\frac{1}{n} \\sum_{i=1}^n W_i X_i X_i' \\right)^{-1} \\left( \\frac{1}{n} \\sum_{i=1}^n W_i X_i Y_i \\right)\n",
    "\\xrightarrow{p}\n",
    "\\left( \\mathbb{E}[W_i X_i X_i'] \\right)^{-1} \\mathbb{E}[W_i X_i Y_i]\n",
    "$$\n",
    "\n",
    "Si además asumimos que el modelo poblacional es lineal:\n",
    "\n",
    "$$\n",
    "Y_i = X_i' \\beta + e_i, \\quad \\text{con } \\mathbb{E}[e_i \\mid X_i] = 0\n",
    "$$\n",
    "\n",
    "Entonces:\n",
    "\n",
    "$$\n",
    "\\mathbb{E}[W_i X_i Y_i] = \\mathbb{E}[W_i X_i (X_i' \\beta + e_i)] = \\mathbb{E}[W_i X_i X_i'] \\beta + \\mathbb{E}[W_i X_i e_i]\n",
    "$$\n",
    "\n",
    "Dado que $ \\mathbb{E}[e_i \\mid X_i] = 0 $, se tiene que $ \\mathbb{E}[W_i X_i e_i] = 0 $, y por lo tanto:\n",
    "\n",
    "$$\n",
    "\\mathbb{E}[W_i X_i Y_i] = \\mathbb{E}[W_i X_i X_i'] \\beta\n",
    "$$\n",
    "\n",
    "De aquí se deduce que:\n",
    "\n",
    "$$\n",
    "\\left( \\mathbb{E}[W_i X_i X_i'] \\right)^{-1} \\mathbb{E}[W_i X_i Y_i] = \\beta\n",
    "$$\n",
    "\n",
    "Es decir, el estimador de MCO ponderado es *consistente* para \\( \\beta \\), bajo los supuestos de exogeneidad condicional y existencia de momentos finitos.\n"
   ]
  },
  {
   "cell_type": "markdown",
   "id": "9fd6576f",
   "metadata": {},
   "source": [
    "### (d) Encuentre la distribución asintótica de $\\sqrt{n} (\\hat{\\beta}- \\beta)$  como n → ∞."
   ]
  },
  {
   "cell_type": "markdown",
   "id": "2cd8741c",
   "metadata": {},
   "source": [
    "Partimo en que:\n",
    "$$\n",
    "\\hat{\\beta} - \\beta = \\left( \\frac{1}{n} \\sum_{i=1}^n W_i X_i X_i' \\right)^{-1} \\left( \\frac{1}{n} \\sum_{i=1}^n W_i X_i e_i \\right)\n",
    "$$\n",
    "\n",
    "Multiplicamos por $ \\sqrt{n} $:\n",
    "\n",
    "$$\n",
    "\\sqrt{n}(\\hat{\\beta} - \\beta) = \\left( \\frac{1}{n} \\sum_{i=1}^n W_i X_i X_i' \\right)^{-1} \\left( \\frac{1}{\\sqrt{n}} \\sum_{i=1}^n W_i X_i e_i \\right)\n",
    "$$\n",
    "\n",
    "El primero termino converge:\n",
    "\n",
    "$$\n",
    "\\frac{1}{n} \\sum_{i=1}^n W_i X_i X_i' \\xrightarrow{p} \\mathbb{E}[W_i X_i X_i']\n",
    "$$\n",
    "\n",
    "El segundo termino tiene esta distribucion asintotica:\n",
    "\n",
    "Bajo supuestos estándar (muestra i.i.d., momentos finitos), el teorema central del límite implica:\n",
    "\n",
    "$$\n",
    "\\frac{1}{\\sqrt{n}} \\sum_{i=1}^n W_i X_i e_i \\xrightarrow{d} \\mathcal{N}(0, \\Omega)\n",
    "$$\n",
    "\n",
    "donde:\n",
    "\n",
    "$$\n",
    "\\Omega = \\mathbb{E}[W_i^2 X_i X_i' e_i^2]\n",
    "$$\n",
    "\n",
    "\n",
    "Aplicando Slutsky y continuidad:\n",
    "\n",
    "$$\n",
    "\\sqrt{n}(\\hat{\\beta} - \\beta) \\xrightarrow{d} \\mathcal{N} \\left( 0, \\left( \\mathbb{E}[W_i X_i X_i'] \\right)^{-1} \\Omega \\left( \\mathbb{E}[W_i X_i X_i'] \\right)^{-1} \\right)\n",
    "$$\n",
    "\n",
    "Es decir,\n",
    "\n",
    "$$\n",
    "\n",
    "\\sqrt{n}(\\hat{\\beta} - \\beta) \\xrightarrow{d} \\mathcal{N} \\left( 0, \\left( \\mathbb{E}[W_i X_i X_i'] \\right)^{-1} \\mathbb{E}[W_i^2 X_i X_i' e_i^2] \\left( \\mathbb{E}[W_i X_i X_i'] \\right)^{-1} \\right)\n",
    "\n",
    "$$\n"
   ]
  }
 ],
 "metadata": {
  "language_info": {
   "name": "python"
  }
 },
 "nbformat": 4,
 "nbformat_minor": 5
}

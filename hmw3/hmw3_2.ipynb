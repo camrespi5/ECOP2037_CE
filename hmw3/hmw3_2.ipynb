{
 "cells": [
  {
   "cell_type": "markdown",
   "id": "c9a7570d",
   "metadata": {},
   "source": [
    "#  MCO Ponderados\n"
   ]
  },
  {
   "cell_type": "markdown",
   "id": "f22aa368",
   "metadata": {},
   "source": [
    "Las variables ${Y_i, X_i, W_i}$ son una muestra aleatoria. El parámetro β se estima minimizando la\n",
    "función criterio.\n",
    "\n",
    "$$\n",
    "S(\\beta) = \\sum_{i=1}^{n} W_i (Y_i - X'_i \\beta)^2\n",
    "$$\n",
    "Es decir, $\\hat{\\beta}=argmin_\\beta S(\\beta)$"
   ]
  },
  {
   "cell_type": "markdown",
   "id": "8b6113f3",
   "metadata": {},
   "source": [
    "(a) Encuentre una expresión explícita para $\\hat{\\beta}$"
   ]
  },
  {
   "cell_type": "markdown",
   "id": "b6cffd18",
   "metadata": {},
   "source": []
  },
  {
   "cell_type": "markdown",
   "id": "316b4f27",
   "metadata": {},
   "source": [
    "(b) ¿Qué parámetro poblacional $\\beta$ está estimando $\\hat{\\beta}$? (Sea explícito sobre cualquier suposición\n",
    "que deba imponer. Pero no haga más suposiciones de las necesarias)."
   ]
  },
  {
   "cell_type": "markdown",
   "id": "b992e26b",
   "metadata": {},
   "source": []
  },
  {
   "cell_type": "markdown",
   "id": "afb0e731",
   "metadata": {},
   "source": [
    "(c) Encuentre el límite de probabilidad para $\\hat{\\beta}$ como n → ∞"
   ]
  },
  {
   "cell_type": "markdown",
   "id": "ed22b0b1",
   "metadata": {},
   "source": []
  },
  {
   "cell_type": "markdown",
   "id": "9fd6576f",
   "metadata": {},
   "source": [
    "(d) Encuentre la distribución asintótica de $\\sqrt{n} (\\hat{\\beta}- \\beta)$  como n → ∞."
   ]
  },
  {
   "cell_type": "markdown",
   "id": "de44aa37",
   "metadata": {},
   "source": []
  }
 ],
 "metadata": {
  "language_info": {
   "name": "python"
  }
 },
 "nbformat": 4,
 "nbformat_minor": 5
}

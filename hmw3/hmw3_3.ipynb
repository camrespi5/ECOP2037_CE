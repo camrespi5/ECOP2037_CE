{
 "cells": [
  {
   "cell_type": "markdown",
   "id": "a2ab629e",
   "metadata": {},
   "source": [
    "# Consistencia y eficiencia"
   ]
  },
  {
   "cell_type": "markdown",
   "id": "4dee8652",
   "metadata": {},
   "source": [
    "El modelo simple sin constante es\n",
    "$\n",
    "Y = \\beta X + e, \\quad \\text{con } \\mathbb{E}[e \\mid X] = 0, \\quad X \\in \\mathbb{R}\n",
    "$\n",
    "\n",
    "\n",
    "Considere los dos estimadores.\n",
    "\n",
    "$$\n",
    "\\hat{\\beta} = \\frac{\\sum_{i=1}^n X_i Y_i}{\\sum_{i=1}^n X_i^2}\n",
    "$$\n",
    "\n",
    "$$\\tilde{\\beta} = \\frac{1}{n} \\sum_{i=1}^n \\frac{Y_i}{X_i}\n",
    "$$\n",
    "\n",
    "\n"
   ]
  },
  {
   "cell_type": "markdown",
   "id": "b757d412",
   "metadata": {},
   "source": [
    "## 1. Bajo los supuestos planteados, ¿son ambos estimadores consistentes para $\\beta $?\n"
   ]
  },
  {
   "cell_type": "markdown",
   "id": "2b8829b6",
   "metadata": {},
   "source": [
    "PARA EL ESTIMADOR 1: \n",
    "Reescribimos $ Y_i = \\beta X_i + e_i $ y sustituimos:\n",
    "\n",
    "$$\n",
    "\\hat{\\beta} = \\frac{\\sum X_i (\\beta X_i + e_i)}{\\sum X_i^2} = \\beta + \\frac{\\sum X_i e_i}{\\sum X_i^2}\n",
    "$$\n",
    "\n",
    "Dado que $ \\mathbb{E}[X_i e_i] = 0 $, por la Ley de los Grandes Números:\n",
    "\n",
    "$$\n",
    "\\frac{\\sum X_i e_i}{\\sum X_i^2} \\xrightarrow{p} 0\n",
    "\\quad \\Rightarrow \\quad\n",
    "\\hat{\\beta} \\xrightarrow{p} \\beta\n",
    "$$\n",
    "\n",
    "$\\hat{\\beta}$ es consistente.\n"
   ]
  },
  {
   "cell_type": "markdown",
   "id": "57264810",
   "metadata": {},
   "source": [
    "Para el estimador 2:\n",
    "\n",
    "Para que $\\tilde{\\beta}$ sea consistente, necesitamos:\n",
    "\n",
    "- $ \\mathbb{E}\\left[\\frac{e_i}{X_i}\\right] = 0 $  \n",
    "- $ \\text{Var}\\left(\\frac{e_i}{X_i}\\right) < \\infty $ \n",
    "- $ X_i \\neq 0 $ con probabilidad 1\n",
    "\n",
    "Bajo estas condiciones, por la Ley de los Grandes Números:\n",
    "\n",
    "$$\n",
    "\\tilde{\\beta} \\xrightarrow{p} \\beta\n",
    "$$\n",
    "Pero dado que no tenemos garantia de que esto se cumpla, no podemos decir que $ \\tilde{\\beta} $  es consistente\n"
   ]
  },
  {
   "cell_type": "markdown",
   "id": "0b746a63",
   "metadata": {},
   "source": [
    "## 2. ¿Existen condiciones bajo las cuales alguno de los estimadores sea eficiente?"
   ]
  },
  {
   "cell_type": "markdown",
   "id": "200adf17",
   "metadata": {},
   "source": [
    "Eficiencia: Un estimador es eficiente si tiene la menor varianza asintótica entre los estimadores insesgados consistentes.\n"
   ]
  },
  {
   "cell_type": "markdown",
   "id": "7da92259",
   "metadata": {},
   "source": [
    "$\\hat{\\beta}$  es eficiente bajo los supuestos clásicos (homocedasticidad y no autocorrelación).\n",
    "\n",
    "$\\tilde{\\beta}$ no es un estimador lineal en Y, y además es menos eficiente en general, ya que su varianza depende fuertemente de la distribución de $\\frac{1}{X_i}$, lo que lo hace más sensible a valores extremos o cercanos a 0. Si, por ejemplo, $ Y_i / X_i $ tiene menor varianza que $ X_i Y_i $), $ \\tilde{\\beta} $ podría tener mejor comportamiento, pero en general, no es eficiente"
   ]
  }
 ],
 "metadata": {
  "language_info": {
   "name": "python"
  }
 },
 "nbformat": 4,
 "nbformat_minor": 5
}

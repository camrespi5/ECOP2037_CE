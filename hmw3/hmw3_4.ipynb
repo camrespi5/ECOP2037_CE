{
 "cells": [
  {
   "cell_type": "markdown",
   "id": "a05da5c6",
   "metadata": {},
   "source": [
    "# Comparación: Ridge vs. Lasso Regression"
   ]
  },
  {
   "cell_type": "markdown",
   "id": "2eea07a5",
   "metadata": {},
   "source": [
    "Considere el modelo lineal clásico:\n",
    "$$\n",
    "Y_i =X_i' \\beta  + e_i, \\quad \\text{con } \\mathbb{E}[e_i \\mid X_i] = 0, \\quad X_i \\in \\mathbb{R}\n",
    "$$"
   ]
  },
  {
   "cell_type": "markdown",
   "id": "6d3186d7",
   "metadata": {},
   "source": [
    "### **Parte A: Ridge Regression**"
   ]
  },
  {
   "cell_type": "markdown",
   "id": "a37c4924",
   "metadata": {},
   "source": [
    "El estimador ridge está definido como:\n",
    "$$\n",
    "\\hat{\\beta}^{Ridge}= (\\sum_{i=1}^{n} X_i X_i' + \\lambda_k I_k)^{-1} (\\sum_{i=1}^{n} X_i Y_i)\n",
    "$$"
   ]
  },
  {
   "cell_type": "markdown",
   "id": "f67d3b07",
   "metadata": {},
   "source": [
    "### (a) Suponga que $\\lambda_n=\\lambda > 0$ es constante. Encuentre el limite en probabilidad de $\\hat{\\beta}^{Ridge}$ cuando n tiende a infinito. Es consistente para $\\beta$?"
   ]
  },
  {
   "cell_type": "markdown",
   "id": "9cbdf6e2",
   "metadata": {},
   "source": [
    "Dado que $ \\lambda_n = \\lambda > 0 $ es constante, no depende de n. Podemos reescribir el estimador dividiendo todo entre n:\n",
    "\n",
    "$$\n",
    "\\hat{\\beta}_{ridge} = \\left( \\frac{1}{n} \\sum_{i=1}^n X_i X_i' + \\frac{\\lambda}{n} I_k \\right)^{-1} \\left( \\frac{1}{n} \\sum_{i=1}^n X_i Y_i \\right)\n",
    "$$\n",
    "\n",
    "\n",
    "Por la ley de los grandes números:\n",
    "\n",
    "$$\n",
    "\\frac{1}{n} \\sum_{i=1}^n X_i X_i' \\xrightarrow{p} \\mathbb{E}[X_i X_i']\n",
    "$$\n",
    "\n",
    "$$\n",
    "\\frac{1}{n} \\sum_{i=1}^n X_i Y_i \\xrightarrow{p} \\mathbb{E}[X_i Y_i]\n",
    "$$\n",
    "\n",
    "Y como $\\frac{\\lambda}{n} \\to 0 $, se tiene:\n",
    "\n",
    "$$\n",
    "\\frac{1}{n} \\sum_{i=1}^n X_i X_i' + \\frac{\\lambda}{n} I_k \\xrightarrow{p} \\mathbb{E}[X_i X_i']\n",
    "$$\n",
    "\n",
    "\n",
    "Supongamos que:\n",
    "\n",
    "$$\n",
    "Y_i = X_i' \\beta + \\varepsilon_i, \\quad \\text{con } \\mathbb{E}[\\varepsilon_i \\mid X_i] = 0\n",
    "$$\n",
    "\n",
    "Entonces:\n",
    "\n",
    "$$\n",
    "\\mathbb{E}[X_i Y_i] = \\mathbb{E}[X_i (X_i' \\beta + \\varepsilon_i)] = \\mathbb{E}[X_i X_i'] \\beta\n",
    "$$\n",
    "\n",
    "Por lo tanto:\n",
    "\n",
    "$$\n",
    "\\hat{\\beta}_{ridge} \\xrightarrow{p} \\left( \\mathbb{E}[X_i X_i'] \\right)^{-1} \\mathbb{E}[X_i Y_i] = \\beta\n",
    "$$\n",
    "\n",
    "Entonces:\n",
    "\n",
    "$\\hat{\\beta}_{ridge} \\xrightarrow{p} \\beta $\n",
    "\n",
    "El estimador Ridge es consistente\n"
   ]
  },
  {
   "cell_type": "markdown",
   "id": "a4fbabde",
   "metadata": {},
   "source": [
    "### (b) Suponga ahora que λn = cn, con c > 0 constante. ¿Cuál es el límite en probabilidad de $\\hat{\\beta} ^ {bridge}$? ¿Es consistente?\n"
   ]
  },
  {
   "cell_type": "markdown",
   "id": "59363158",
   "metadata": {},
   "source": [
    "Si $\\lambda_n = c n $, entonces:\n",
    "\n",
    "$$\n",
    "\\hat{\\beta}_{ridge} = \\left( \\sum_{i=1}^n X_i X_i' + c n I_k \\right)^{-1} \\left( \\sum_{i=1}^n X_i Y_i \\right)\n",
    "$$\n",
    "\n",
    "Dividiendo entre  n :\n",
    "\n",
    "$$\n",
    "\\hat{\\beta}_{ridge} = \\left( \\frac{1}{n} \\sum_{i=1}^n X_i X_i' + c I_k \\right)^{-1} \\left( \\frac{1}{n} \\sum_{i=1}^n X_i Y_i \\right)\n",
    "$$\n",
    "\n",
    "\n",
    "Por la ley de los grandes números:\n",
    "\n",
    "$$\n",
    "\\frac{1}{n} \\sum_{i=1}^n X_i X_i' \\xrightarrow{p} \\mathbb{E}[X_i X_i'], \\quad\n",
    "\\frac{1}{n} \\sum_{i=1}^n X_i Y_i \\xrightarrow{p} \\mathbb{E}[X_i Y_i]\n",
    "$$\n",
    "\n",
    "Entonces:\n",
    "\n",
    "$$\n",
    "\\hat{\\beta}_{ridge} \\xrightarrow{p}\n",
    "\\left( \\mathbb{E}[X_i X_i'] + c I_k \\right)^{-1} \\mathbb{E}[X_i Y_i]\n",
    "$$\n",
    "\n",
    "\n",
    "Supongamos que:\n",
    "\n",
    "$$\n",
    "Y_i = X_i' \\beta + \\varepsilon_i, \\quad \\text{con } \\mathbb{E}[\\varepsilon_i \\mid X_i] = 0\n",
    "$$\n",
    "\n",
    "Entonces:\n",
    "\n",
    "$$\n",
    "\\mathbb{E}[X_i Y_i] = \\mathbb{E}[X_i X_i'] \\beta\n",
    "$$\n",
    "\n",
    "Sustituyendo:\n",
    "\n",
    "$$\n",
    "\\hat{\\beta}_{ridge} \\xrightarrow{p}\n",
    "\\left( \\mathbb{E}[X_i X_i'] + c I_k \\right)^{-1} \\mathbb{E}[X_i X_i'] \\beta\n",
    "$$\n",
    "\n",
    "Esta expresión no es igual a $ \\beta$ porque:\n",
    "\n",
    "$$\n",
    "\\left( \\mathbb{E}[X_i X_i'] + c I_k \\right)^{-1} \\mathbb{E}[X_i X_i'] \\neq I_k\n",
    "$$\n",
    "\n",
    "Entonces: \n",
    "$$\n",
    "\\hat{\\beta}_{ridge} \\xrightarrow{p}\n",
    "\\left( \\mathbb{E}[X_i X_i'] + c I_k \\right)^{-1} \\mathbb{E}[X_i X_i'] \\beta \\neq \\beta\n",
    "$$\n",
    "\n",
    "cuando $\\lambda_n = c n $, el estimador Ridge no es consistente"
   ]
  },
  {
   "cell_type": "markdown",
   "id": "a113af95",
   "metadata": {},
   "source": [
    "### **Parte B: Lasso Regression**"
   ]
  },
  {
   "cell_type": "markdown",
   "id": "67a0a84a",
   "metadata": {},
   "source": [
    "El estimador lasso está definido como:\n",
    "$$\n",
    "\\hat{\\beta}^{lasso} = \\arg \\min_{\\beta} \\left\\{ \\sum_{i=1}^n (Y_i - X_i' \\beta)^2 + \\lambda_n \\sum_{j=1}^k |\\beta_j| \\right\\}\n",
    "$$"
   ]
  },
  {
   "cell_type": "markdown",
   "id": "b9b30839",
   "metadata": {},
   "source": [
    "### (a) Suponga que $\\lambda_n=\\lambda > 0$ es constante. Encuentre el limite en probabilidad de $\\hat{\\beta}^{lasso}$ cuando n tiende a infinito. Es consistente para $\\beta$?"
   ]
  },
  {
   "cell_type": "markdown",
   "id": "6a8bd611",
   "metadata": {},
   "source": [
    "$$\n",
    "\\text{lasso} \\quad \\hat{p} \\quad \\beta^* \\ne \\beta\n",
    "$$\n",
    "\n",
    "Donde \\( \\beta^* \\) es el minimizador del problema poblacional penalizado:\n",
    "\n",
    "$$\n",
    "\\beta^* = \\arg\\min_{\\beta} \\left\\{ \\mathbb{E}\\left[ (Y - X' \\beta)^2 \\right] + \\lambda \\sum_{j=1}^{k} |\\beta_j| \\right\\}\n",
    "$$\n",
    "\n",
    "Este $ \\beta^* $ no es igual al verdadero $ \\beta $ del modelo lineal poblacional, salvo que $ \\lambda = 0 $\n"
   ]
  },
  {
   "cell_type": "markdown",
   "id": "abea8bae",
   "metadata": {},
   "source": [
    "### (b) Suponga ahora que λn = cn, con c > 0 constante. ¿Cuál es el límite en probabilidad de $\\hat{\\beta} ^ {lasso}$? ¿Es consistente?"
   ]
  },
  {
   "cell_type": "markdown",
   "id": "846026ab",
   "metadata": {},
   "source": [
    "Si $\\lambda_n = c n $, el término de penalización domina completamente cuando $ n \\to \\infty $, forzando todos los coeficientes a cero. Entonces:\n",
    "\n",
    "$$\n",
    "\\hat{\\beta}^{lasso} \\xrightarrow{p} \\arg\\min_{\\beta} \\sum_{j=1}^k |\\beta_j| \\quad \\Rightarrow \\quad \\hat{\\beta}^{lasso} \\xrightarrow{p} 0\n",
    "$$\n",
    "\n",
    "Por tanto:\n",
    "\n",
    "- El límite en probabilidad de $ \\hat{\\beta}^{lasso} $ es el vector cero\n",
    "- No es consistente a menos que el verdadero $ \\beta = 0 $.\n"
   ]
  }
 ],
 "metadata": {
  "language_info": {
   "name": "python"
  }
 },
 "nbformat": 4,
 "nbformat_minor": 5
}

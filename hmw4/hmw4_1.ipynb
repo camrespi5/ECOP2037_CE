{
 "cells": [
  {
   "cell_type": "code",
   "execution_count": 30,
   "id": "c3abf651",
   "metadata": {},
   "outputs": [],
   "source": [
    "import pandas as pd\n",
    "import numpy as np"
   ]
  },
  {
   "cell_type": "markdown",
   "id": "59ea843a",
   "metadata": {},
   "source": [
    "# Contribución empírica del crecimiento económico: Estimaciones OLS, CLS y EMD"
   ]
  },
  {
   "cell_type": "markdown",
   "id": "c1661a8c",
   "metadata": {},
   "source": [
    "1. Carga la base de datos en un DataFrame."
   ]
  },
  {
   "cell_type": "code",
   "execution_count": 31,
   "id": "f0ab8b38",
   "metadata": {},
   "outputs": [],
   "source": [
    "url=r'C:\\Users\\Camil\\Documents\\GitHub\\ECOP2037_CE\\hmw4\\MRW1992.dta'\n",
    "df=pd.read_stata(url)"
   ]
  },
  {
   "cell_type": "markdown",
   "id": "67dcacb6",
   "metadata": {},
   "source": [
    "2. Calcula las matrices X (con columna de 1s) y y a partir del DataFrame."
   ]
  },
  {
   "cell_type": "code",
   "execution_count": 43,
   "id": "c38bccc4",
   "metadata": {},
   "outputs": [],
   "source": [
    "df = df[df['N'] != 0]\n",
    "\n",
    "log_change=np.log(df['Y85'])-np.log(df['Y60'])\n",
    "\n",
    "logGDP60=np.log(df['Y60'])\n",
    "\n",
    "logI_GDP=np.log(df['invest']/100)\n",
    "\n",
    "log_school=np.log(df['school']/100)\n",
    "\n",
    "log_growth=np.log(df['pop_growth']/100 +0.05)"
   ]
  },
  {
   "cell_type": "code",
   "execution_count": 46,
   "id": "38e70d78",
   "metadata": {},
   "outputs": [],
   "source": [
    "y=np.array(log_change)\n",
    "y=y.reshape(-1, 1)\n",
    "\n",
    "x=np.column_stack([np.ones(len(df)), logGDP60, logI_GDP, log_growth,log_school])"
   ]
  },
  {
   "cell_type": "markdown",
   "id": "5d32144f",
   "metadata": {},
   "source": [
    "3. Implementa el estimador OLS y sus su matriz de varianza y covarianza HCO."
   ]
  },
  {
   "cell_type": "code",
   "execution_count": 51,
   "id": "29ca314a",
   "metadata": {},
   "outputs": [],
   "source": [
    "beta_ols= (np.linalg.inv(x.T @ x)) @ (x.T @ y)\n",
    "residuos = y - x @ beta_ols\n",
    "\n",
    "n, k = x.shape\n",
    "m = np.zeros((k, k))\n",
    "for i in range(n):\n",
    "    xi = x[i, :].reshape(-1, 1)\n",
    "    ui2 = residuos[i]**2         \n",
    "    m += ui2 * (xi @ xi.T)          \n",
    "\n",
    "var_covOLS= (np.linalg.inv(x.T @ x)) @ m @ np.linalg.inv(x.T @ x)\n"
   ]
  },
  {
   "cell_type": "markdown",
   "id": "42e3d830",
   "metadata": {},
   "source": [
    "4. Implementa el estimador CLS y su matriz de varianza y covarianza."
   ]
  },
  {
   "cell_type": "code",
   "execution_count": null,
   "id": "d1659204",
   "metadata": {},
   "outputs": [],
   "source": [
    "R = np.array([[0, 0, 1, 1, 1]])\n",
    "r = np.array([[0]])\n",
    "\n",
    "beta_cls= beta_ols- [(np.linalg.inv(x.T @x)) @ R.T @ np.linalg.inv(R @ np.linalg.inv(x.T @x) @ R.T) @ ((R@beta_ols) -r )]\n",
    "\n",
    "residuosCLS = (y-x@beta_cls).reshape(-1, 1)\n",
    "n, k = x.shape\n",
    "q = R.shape[0]\n",
    "sigma2_hat = (residuosCLS.T @ residuosCLS) / (n - k + q)\n",
    "\n",
    "m = np.linalg.inv(R @ (np.linalg.inv(x.T @x)) @ R.T)\n",
    "correction = (np.linalg.inv(x.T @x)) @ R.T @ m @ R @ (np.linalg.inv(x.T @x))\n",
    "\n",
    "var_covCLS = sigma2_hat.item() * ((np.linalg.inv(x.T @x)) - correction)"
   ]
  },
  {
   "cell_type": "markdown",
   "id": "54739366",
   "metadata": {},
   "source": [
    "5. Implementa el estimador EMD. Pondera por una matriz de varianza estimada eficiente bV ,\n",
    "siguiendo el mismo principio de CLS. Estima también la matriz de varianza y covarianza."
   ]
  }
 ],
 "metadata": {
  "kernelspec": {
   "display_name": "Python 3",
   "language": "python",
   "name": "python3"
  },
  "language_info": {
   "codemirror_mode": {
    "name": "ipython",
    "version": 3
   },
   "file_extension": ".py",
   "mimetype": "text/x-python",
   "name": "python",
   "nbconvert_exporter": "python",
   "pygments_lexer": "ipython3",
   "version": "3.12.6"
  }
 },
 "nbformat": 4,
 "nbformat_minor": 5
}

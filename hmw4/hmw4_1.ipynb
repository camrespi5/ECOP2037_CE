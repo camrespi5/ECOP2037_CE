{
 "cells": [
  {
   "cell_type": "code",
   "execution_count": 274,
   "id": "c3abf651",
   "metadata": {},
   "outputs": [],
   "source": [
    "import pandas as pd\n",
    "import numpy as np"
   ]
  },
  {
   "cell_type": "markdown",
   "id": "59ea843a",
   "metadata": {},
   "source": [
    "# Contribución empírica del crecimiento económico: Estimaciones OLS, CLS y EMD"
   ]
  },
  {
   "cell_type": "markdown",
   "id": "c1661a8c",
   "metadata": {},
   "source": [
    "1. Carga la base de datos en un DataFrame."
   ]
  },
  {
   "cell_type": "code",
   "execution_count": 275,
   "id": "f0ab8b38",
   "metadata": {},
   "outputs": [],
   "source": [
    "url=r'C:\\Users\\Camil\\Documents\\GitHub\\ECOP2037_CE\\hmw4\\MRW1992.dta'\n",
    "df=pd.read_stata(url)"
   ]
  },
  {
   "cell_type": "markdown",
   "id": "67dcacb6",
   "metadata": {},
   "source": [
    "2. Calcula las matrices X (con columna de 1s) y y a partir del DataFrame."
   ]
  },
  {
   "cell_type": "code",
   "execution_count": 276,
   "id": "c38bccc4",
   "metadata": {},
   "outputs": [],
   "source": [
    "df = df[df['N'] != 0]\n",
    "\n",
    "log_change=np.log(df['Y85'])-np.log(df['Y60'])\n",
    "\n",
    "logGDP60=np.log(df['Y60'])\n",
    "\n",
    "logI_GDP=np.log(df['invest']/100)\n",
    "\n",
    "log_school=np.log(df['school']/100)\n",
    "\n",
    "log_growth=np.log(df['pop_growth']/100 +0.05)"
   ]
  },
  {
   "cell_type": "code",
   "execution_count": 277,
   "id": "38e70d78",
   "metadata": {},
   "outputs": [],
   "source": [
    "y=np.array(log_change)\n",
    "\n",
    "x=np.column_stack([np.ones(len(df)), logGDP60, logI_GDP, log_growth,log_school])"
   ]
  },
  {
   "cell_type": "markdown",
   "id": "5d32144f",
   "metadata": {},
   "source": [
    "3. Implementa el estimador OLS y sus su matriz de varianza y covarianza HCO."
   ]
  },
  {
   "cell_type": "code",
   "execution_count": 278,
   "id": "29ca314a",
   "metadata": {},
   "outputs": [],
   "source": [
    "beta_ols= (np.linalg.inv(x.T @ x)) @ (x.T @ y)\n",
    "residuos = y - x @ beta_ols\n",
    "n, k = x.shape\n",
    "m = np.zeros((k, k))\n",
    "for i in range(n):\n",
    "    xi = x[i, :].reshape(-1, 1)\n",
    "    ui2 = residuos[i]**2         \n",
    "    m += ui2 * (xi @ xi.T)          \n",
    "\n",
    "var_covOLS=(n/(n-k)) *(np.linalg.inv(x.T @ x)) @ m @ np.linalg.inv(x.T @ x)\n",
    "se=np.sqrt(np.diag(var_covOLS))\n"
   ]
  },
  {
   "cell_type": "markdown",
   "id": "42e3d830",
   "metadata": {},
   "source": [
    "4. Implementa el estimador CLS y su matriz de varianza y covarianza."
   ]
  },
  {
   "cell_type": "code",
   "execution_count": 279,
   "id": "d1659204",
   "metadata": {},
   "outputs": [],
   "source": [
    "R = np.array([[0], [0], [1], [1], [1]])\n",
    "r = np.array([0])\n",
    "\n",
    "beta_cls= beta_ols- ((np.linalg.inv(x.T @x)) @ R @ np.linalg.inv(R.T @ np.linalg.inv(x.T @x) @ R) @ ((R.T@beta_ols) -r ))\n",
    "\n",
    "residuosCLS = (y-x@beta_cls).reshape(-1, 1)\n",
    "n, k = x.shape\n",
    "q = R.shape[0]\n",
    "omega = (residuosCLS.T @ residuosCLS) / (n - k + q)\n",
    "correction = (np.linalg.inv(x.T @x)) @ R @ (np.linalg.inv(R.T @ (np.linalg.inv(x.T @x)) @ R)) @ R.T @ (np.linalg.inv(x.T @x))\n",
    "var_covCLS = omega.item() * ((np.linalg.inv(x.T @x)) - correction)\n",
    "\n",
    "\n",
    "seCLS=np.sqrt(np.diag(var_covCLS))"
   ]
  },
  {
   "cell_type": "markdown",
   "id": "54739366",
   "metadata": {},
   "source": [
    "5. Implementa el estimador EMD. Pondera por una matriz de varianza estimada eficiente bV ,\n",
    "siguiendo el mismo principio de CLS. Estima también la matriz de varianza y covarianza."
   ]
  },
  {
   "cell_type": "code",
   "execution_count": 280,
   "id": "e2522d4b",
   "metadata": {},
   "outputs": [],
   "source": [
    "XtX_inv = np.linalg.inv(x.T @ x)\n",
    "\n",
    "beta_emd = beta_ols - var_covOLS @ R @ np.linalg.inv((R.T @ var_covOLS @ R)) @ (R.T @ beta_ols - r)\n",
    "\n",
    "y_hat_emd = x @ beta_emd\n",
    "residuosEMD= y - y_hat_emd\n",
    "\n",
    "Omega_hc0_emd = np.diag(residuosEMD**2)\n",
    "\n",
    "var_covEMD= var_covOLS- (var_covOLS@ R @ (np.linalg.inv(R.T @ var_covOLS @ R)) @R.T @ var_covOLS)\n",
    "se_emd = np.sqrt(np.diag(var_covEMD))"
   ]
  },
  {
   "cell_type": "markdown",
   "id": "9f2d9047",
   "metadata": {},
   "source": [
    "6. Implementa un código que genere una tabla de resumen de resultado como la Tabla 8.1"
   ]
  },
  {
   "cell_type": "code",
   "execution_count": 281,
   "id": "0074e0c5",
   "metadata": {},
   "outputs": [
    {
     "data": {
      "application/vnd.microsoft.datawrangler.viewer.v0+json": {
       "columns": [
        {
         "name": "index",
         "rawType": "int64",
         "type": "integer"
        },
        {
         "name": "Variable",
         "rawType": "object",
         "type": "string"
        },
        {
         "name": "OLS",
         "rawType": "float64",
         "type": "float"
        },
        {
         "name": "SE_OLS",
         "rawType": "float64",
         "type": "float"
        },
        {
         "name": "CLS",
         "rawType": "float64",
         "type": "float"
        },
        {
         "name": "SE_CLS",
         "rawType": "float64",
         "type": "float"
        },
        {
         "name": "EMD",
         "rawType": "float64",
         "type": "float"
        },
        {
         "name": "SE_EMD",
         "rawType": "float64",
         "type": "float"
        }
       ],
       "ref": "b79bd631-649e-4c4f-9f32-3b5609e2107d",
       "rows": [
        [
         "0",
         "Intercept",
         "3.02",
         "0.74",
         "2.46",
         "0.46",
         "2.48",
         "0.44"
        ],
        [
         "1",
         "logGDP1960",
         "-0.29",
         "0.05",
         "-0.3",
         "0.06",
         "-0.3",
         "0.05"
        ],
        [
         "2",
         "logI/GDP",
         "0.52",
         "0.11",
         "0.5",
         "0.08",
         "0.46",
         "0.08"
        ],
        [
         "3",
         "log(n+g+d)",
         "-0.51",
         "0.24",
         "-0.74",
         "0.08",
         "-0.71",
         "0.07"
        ],
        [
         "4",
         "log(school)",
         "0.23",
         "0.07",
         "0.24",
         "0.06",
         "0.25",
         "0.06"
        ]
       ],
       "shape": {
        "columns": 7,
        "rows": 5
       }
      },
      "text/html": [
       "<div>\n",
       "<style scoped>\n",
       "    .dataframe tbody tr th:only-of-type {\n",
       "        vertical-align: middle;\n",
       "    }\n",
       "\n",
       "    .dataframe tbody tr th {\n",
       "        vertical-align: top;\n",
       "    }\n",
       "\n",
       "    .dataframe thead th {\n",
       "        text-align: right;\n",
       "    }\n",
       "</style>\n",
       "<table border=\"1\" class=\"dataframe\">\n",
       "  <thead>\n",
       "    <tr style=\"text-align: right;\">\n",
       "      <th></th>\n",
       "      <th>Variable</th>\n",
       "      <th>OLS</th>\n",
       "      <th>SE_OLS</th>\n",
       "      <th>CLS</th>\n",
       "      <th>SE_CLS</th>\n",
       "      <th>EMD</th>\n",
       "      <th>SE_EMD</th>\n",
       "    </tr>\n",
       "  </thead>\n",
       "  <tbody>\n",
       "    <tr>\n",
       "      <th>0</th>\n",
       "      <td>Intercept</td>\n",
       "      <td>3.02</td>\n",
       "      <td>0.74</td>\n",
       "      <td>2.46</td>\n",
       "      <td>0.46</td>\n",
       "      <td>2.48</td>\n",
       "      <td>0.44</td>\n",
       "    </tr>\n",
       "    <tr>\n",
       "      <th>1</th>\n",
       "      <td>logGDP1960</td>\n",
       "      <td>-0.29</td>\n",
       "      <td>0.05</td>\n",
       "      <td>-0.30</td>\n",
       "      <td>0.06</td>\n",
       "      <td>-0.30</td>\n",
       "      <td>0.05</td>\n",
       "    </tr>\n",
       "    <tr>\n",
       "      <th>2</th>\n",
       "      <td>logI/GDP</td>\n",
       "      <td>0.52</td>\n",
       "      <td>0.11</td>\n",
       "      <td>0.50</td>\n",
       "      <td>0.08</td>\n",
       "      <td>0.46</td>\n",
       "      <td>0.08</td>\n",
       "    </tr>\n",
       "    <tr>\n",
       "      <th>3</th>\n",
       "      <td>log(n+g+d)</td>\n",
       "      <td>-0.51</td>\n",
       "      <td>0.24</td>\n",
       "      <td>-0.74</td>\n",
       "      <td>0.08</td>\n",
       "      <td>-0.71</td>\n",
       "      <td>0.07</td>\n",
       "    </tr>\n",
       "    <tr>\n",
       "      <th>4</th>\n",
       "      <td>log(school)</td>\n",
       "      <td>0.23</td>\n",
       "      <td>0.07</td>\n",
       "      <td>0.24</td>\n",
       "      <td>0.06</td>\n",
       "      <td>0.25</td>\n",
       "      <td>0.06</td>\n",
       "    </tr>\n",
       "  </tbody>\n",
       "</table>\n",
       "</div>"
      ],
      "text/plain": [
       "      Variable   OLS  SE_OLS   CLS  SE_CLS   EMD  SE_EMD\n",
       "0    Intercept  3.02    0.74  2.46    0.46  2.48    0.44\n",
       "1   logGDP1960 -0.29    0.05 -0.30    0.06 -0.30    0.05\n",
       "2     logI/GDP  0.52    0.11  0.50    0.08  0.46    0.08\n",
       "3   log(n+g+d) -0.51    0.24 -0.74    0.08 -0.71    0.07\n",
       "4  log(school)  0.23    0.07  0.24    0.06  0.25    0.06"
      ]
     },
     "execution_count": 281,
     "metadata": {},
     "output_type": "execute_result"
    }
   ],
   "source": [
    "columna1= [ \"Intercept\",\"logGDP1960\", \"logI/GDP\", 'log(n+g+d)', \"log(school)\"]\n",
    "\n",
    "tabla = pd.DataFrame({\n",
    "    'Variable': columna1,\n",
    "    'OLS': beta_ols.flatten(),\n",
    "    'SE_OLS': se.flatten(),\n",
    "    'CLS': beta_cls.flatten(),\n",
    "    'SE_CLS': seCLS.flatten(),\n",
    "    'EMD': beta_emd.flatten(),\n",
    "    'SE_EMD': se_emd.flatten()\n",
    "})\n",
    "tabla = tabla.round(2)\n",
    "tabla"
   ]
  },
  {
   "cell_type": "markdown",
   "id": "47dd929a",
   "metadata": {},
   "source": [
    "7. Escriba un párrafo breve explicando las diferencias entre OLS, CLS y EMD en términos\n",
    "econométricos, y sobretodo su interpretación ecónomica."
   ]
  },
  {
   "cell_type": "markdown",
   "id": "0fefecad",
   "metadata": {},
   "source": [
    "El estimador OLS puede ser ineficiente en ciertos casos en los que existen restricciones derivadas de la teoria que deben ser incorporadas como el modelo de solow. Usando el estimador CLS se imponen estas restricciones lineales a los coeficientes lo que puede dar mejores estimaciones o mas apegadas a la realidad si las restricciones son pertinentes. Sin embargo, este estimador no toma en cuenta la estructura de varianza y covarianza de los errores. El estimador EMD ajusta esas restricciones usando una matriz de ponderación eficiente derivada de la varianza estimada. En términos económicos, OLS estima relaciones ignorando conceptos teoricos, mientras, CLS y EMD introducen estos conceptos y lo aprovechan para obtener estimaciones mas eficientes en terminos economicos, siendo EMD superior si las restricciones son válidas y hay heterocedasticidad."
   ]
  }
 ],
 "metadata": {
  "kernelspec": {
   "display_name": "Python 3",
   "language": "python",
   "name": "python3"
  },
  "language_info": {
   "codemirror_mode": {
    "name": "ipython",
    "version": 3
   },
   "file_extension": ".py",
   "mimetype": "text/x-python",
   "name": "python",
   "nbconvert_exporter": "python",
   "pygments_lexer": "ipython3",
   "version": "3.12.6"
  }
 },
 "nbformat": 4,
 "nbformat_minor": 5
}

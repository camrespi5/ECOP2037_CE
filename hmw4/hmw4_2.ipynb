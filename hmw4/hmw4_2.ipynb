{
 "cells": [
  {
   "cell_type": "code",
   "execution_count": 43,
   "id": "858646ef",
   "metadata": {},
   "outputs": [],
   "source": [
    "import pandas as pd\n",
    "import numpy as np"
   ]
  },
  {
   "cell_type": "markdown",
   "id": "94fb753a",
   "metadata": {},
   "source": [
    "# Estimación iterativa FGLS"
   ]
  },
  {
   "cell_type": "code",
   "execution_count": 44,
   "id": "5cf09d1a",
   "metadata": {},
   "outputs": [],
   "source": [
    "url=r'C:\\Users\\Camil\\Documents\\GitHub\\ECOP2037_CE\\hmw4\\MRW1992.dta'\n",
    "df=pd.read_stata(url)"
   ]
  },
  {
   "cell_type": "code",
   "execution_count": 45,
   "id": "2af69577",
   "metadata": {},
   "outputs": [],
   "source": [
    "df = df[df['N'] != 0]\n",
    "\n",
    "log_change=np.log(df['Y85'])-np.log(df['Y60'])\n",
    "\n",
    "logGDP60=np.log(df['Y60'])\n",
    "\n",
    "logI_GDP=np.log(df['invest']/100)\n",
    "\n",
    "log_school=np.log(df['school']/100)\n",
    "\n",
    "log_growth=np.log(df['pop_growth']/100 +0.05)\n",
    "\n",
    "y=np.array(log_change)\n",
    "y=y.reshape(-1, 1)\n",
    "\n",
    "x=np.column_stack([np.ones(len(df)), logGDP60, logI_GDP, log_growth,log_school])"
   ]
  },
  {
   "cell_type": "code",
   "execution_count": 51,
   "id": "b6ce3de9",
   "metadata": {},
   "outputs": [
    {
     "name": "stdout",
     "output_type": "stream",
     "text": [
      "Se alcanzo la convergencia con  9  iteraciones\n"
     ]
    },
    {
     "data": {
      "text/plain": [
       "array([[ 3.14004352],\n",
       "       [-0.3082662 ],\n",
       "       [ 0.54587821],\n",
       "       [-0.54562868],\n",
       "       [ 0.24257325]])"
      ]
     },
     "execution_count": 51,
     "metadata": {},
     "output_type": "execute_result"
    }
   ],
   "source": [
    "def fgls(x,y,tolerancia,max_iteracion):\n",
    "    contador=0\n",
    "    beta_old= (np.linalg.inv(x.T @ x)) @ (x.T @ y)\n",
    "\n",
    "    for i in range(1, max_iteracion):\n",
    "        contador+=1\n",
    "        residuos = y - x @ beta_old\n",
    "        e2=(residuos.flatten())**2\n",
    "        omega=np.diagflat(e2)\n",
    "        beta_new= (np.linalg.inv(x.T @ (np.linalg.inv(omega))@ x)) @ x.T @ (np.linalg.inv(omega)) @ y\n",
    "        \n",
    "        if np.linalg.norm(beta_new-beta_old)<tolerancia:\n",
    "            print(\"Se alcanzo la convergencia con \",contador, \" iteraciones\")\n",
    "            return beta_new\n",
    "\n",
    "        else:\n",
    "            beta_old=beta_new\n",
    "          \n",
    "    print(f\"No se alcanzó convergencia después de {max_iteracion} iteraciones\")\n",
    "    return beta_old\n",
    "\n",
    "\n",
    "fgls(x,y,1e-6,100000)\n"
   ]
  }
 ],
 "metadata": {
  "kernelspec": {
   "display_name": "Python 3",
   "language": "python",
   "name": "python3"
  },
  "language_info": {
   "codemirror_mode": {
    "name": "ipython",
    "version": 3
   },
   "file_extension": ".py",
   "mimetype": "text/x-python",
   "name": "python",
   "nbconvert_exporter": "python",
   "pygments_lexer": "ipython3",
   "version": "3.12.6"
  }
 },
 "nbformat": 4,
 "nbformat_minor": 5
}
